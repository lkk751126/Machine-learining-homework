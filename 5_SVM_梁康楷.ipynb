{
 "cells": [
  {
   "cell_type": "markdown",
   "metadata": {},
   "source": [
    "## 作业\n",
    "\n",
    "调整不同的`kernel`，以及不同的参数 `C` 和 `gamma`,记录下对应的\"Testing Accuracy\",并得出简单结论，哪些参数下你的模型推广能力最强？\n",
    "\n",
    "了解如下几种算法，对上面导入的 `MNIST` 数据库进行分类。并用mnist数据测试。\n",
    "重点关注以下方法：\n",
    "\n",
    "- [SGDClassifier](https://scikit-learn.org/stable/modules/generated/sklearn.linear_model.SGDClassifier.html#sklearn.linear_model.SGDClassifier)  随机梯度下降\n",
    "- [Ensemble methods](https://scikit-learn.org/stable/modules/ensemble.html#ensemble), 特别是 `RandomForestClassifier`   \n",
    "- [LogisticRegressionCV](https://scikit-learn.org/stable/modules/generated/sklearn.linear_model.LogisticRegressionCV.html#sklearn.linear_model.LogisticRegressionCV), 以及 [Generalized Linear Models](https://scikit-learn.org/stable/modules/linear_model.html#linear-model) 中的其它带 **CV** 方法。 \n",
    "\n",
    "H 呼出快捷键列表"
   ]
  },
  {
   "cell_type": "code",
   "execution_count": 1,
   "metadata": {},
   "outputs": [],
   "source": [
    "import pandas as pd  # 导入库\n",
    "import numpy as np\n",
    "from pylab import plot, xlabel, ylabel, legend, figure, contour\n",
    "%matplotlib inline     \n",
    "#上行具体作用：当调用matplotlib.pyplot的绘图函数plot()进行绘图的时候，或者生成一个figure画布的时候，可以直接在python console里面生成图像。\n",
    "import matplotlib # 注意这个也要import一次,原因不是很清楚\n",
    "import matplotlib.pyplot as plt\n",
    "import matplotlib.font_manager as fm\n",
    "# 使用Matplotlib的字体管理器加载中文字体\n",
    "my_font=fm.FontProperties(fname=\"C:\\Windows\\Fonts\\simsunb.ttf\")\n",
    "plt.rcParams['font.sans-serif']=['SimHei']\n",
    "\n",
    "#解决负号'-'显示为方块的问题\n",
    "matplotlib.rcParams['axes.unicode_minus'] = False\n"
   ]
  },
  {
   "cell_type": "markdown",
   "metadata": {},
   "source": [
    "# 1 模型推广能力与参数"
   ]
  },
  {
   "cell_type": "markdown",
   "metadata": {},
   "source": [
    "## 1.1 导入 mnist 数据库。\n",
    "\n",
    "mnist 数据是机器学习分类任务中最常用的数据库之一。是 10 个手写体数字的灰度图，每张图尺寸为 $28\\times28$。原始数据库包含7万个样本。这里选取了1万个样本。完整样本可以从[Kaggle](https://www.kaggle.com/oddrationale/mnist-in-csv/home)上获得。"
   ]
  },
  {
   "cell_type": "code",
   "execution_count": 2,
   "metadata": {},
   "outputs": [],
   "source": [
    "MNIST = pd.read_csv(\"mnist.csv\")\n",
    "Y = MNIST[\"label\"].values.reshape(-1,1)\n",
    "X = MNIST[MNIST.columns[1:785]].values"
   ]
  },
  {
   "cell_type": "markdown",
   "metadata": {},
   "source": [
    "## 1.2 数据库标准化"
   ]
  },
  {
   "cell_type": "code",
   "execution_count": 3,
   "metadata": {},
   "outputs": [
    {
     "name": "stderr",
     "output_type": "stream",
     "text": [
      "D:\\software\\anaconda\\lib\\site-packages\\sklearn\\utils\\validation.py:595: DataConversionWarning: Data with input dtype int64 was converted to float64 by the scale function.\n",
      "  warnings.warn(msg, DataConversionWarning)\n"
     ]
    }
   ],
   "source": [
    "from sklearn import preprocessing\n",
    "\n",
    "X_scaled = preprocessing.scale(X)\n",
    "\n",
    "y = Y"
   ]
  },
  {
   "cell_type": "markdown",
   "metadata": {},
   "source": [
    "## 1.3 数据库分割"
   ]
  },
  {
   "cell_type": "code",
   "execution_count": 4,
   "metadata": {},
   "outputs": [
    {
     "name": "stdout",
     "output_type": "stream",
     "text": [
      "训练集： 7000 1： 790\n",
      "测试集： 3000 1： 337\n"
     ]
    }
   ],
   "source": [
    "from sklearn.model_selection import train_test_split   #test(换为cv)\n",
    "\n",
    "split_test_size = 0.3\n",
    "\n",
    "X_train,X_test,y_train,y_test = train_test_split(X_scaled,y,test_size = split_test_size,random_state=42)\n",
    "\n",
    "print(\"训练集：\",len(X_train),\"1：\",len(y_train[y_train[:]==1]))\n",
    "print(\"测试集：\",len(X_test),\"1：\",len(y_test[y_test[:]==1]))"
   ]
  },
  {
   "cell_type": "markdown",
   "metadata": {},
   "source": [
    "这里使用的核函数是线性核"
   ]
  },
  {
   "cell_type": "code",
   "execution_count": 5,
   "metadata": {},
   "outputs": [
    {
     "data": {
      "text/plain": [
       "SVC(C=1.0, cache_size=200, class_weight=None, coef0=0.0,\n",
       "  decision_function_shape='ovr', degree=3, gamma='auto', kernel='linear',\n",
       "  max_iter=-1, probability=False, random_state=None, shrinking=True,\n",
       "  tol=0.001, verbose=False)"
      ]
     },
     "execution_count": 5,
     "metadata": {},
     "output_type": "execute_result"
    }
   ],
   "source": [
    "from sklearn import svm\n",
    "clf = svm.SVC(kernel='linear',gamma='auto')    #（kernel  核函数（Linear)（c就是分类阈值的意思）\n",
    "clf.fit(X_train, y_train.ravel())    #.ravel y是个m*1的列矢量，变为m个列矢量    C是带宽"
   ]
  },
  {
   "cell_type": "markdown",
   "metadata": {},
   "source": [
    "## 1.4 算法评估"
   ]
  },
  {
   "cell_type": "code",
   "execution_count": 7,
   "metadata": {},
   "outputs": [
    {
     "name": "stdout",
     "output_type": "stream",
     "text": [
      "Training accuracy: 1.0000\n",
      "==========================================================================\n",
      "Testing Accuracy: 0.9147\n"
     ]
    }
   ],
   "source": [
    "from sklearn import metrics\n",
    "\n",
    "lr_cv_predict_train = clf.predict(X_train)\n",
    "# training metrics\n",
    "print(\"Training accuracy: {0:.4f}\".format(metrics.accuracy_score(y_train, lr_cv_predict_train)))\n",
    "\n",
    "print(\"==========================================================================\")\n",
    "\n",
    "lr_cv_predict_test = clf.predict(X_test)\n",
    "\n",
    "# training metrics\n",
    "print(\"Testing Accuracy: {0:.4f}\".format(metrics.accuracy_score(y_test, lr_cv_predict_test)))"
   ]
  },
  {
   "cell_type": "markdown",
   "metadata": {},
   "source": [
    "## 1.5 核函数讨论"
   ]
  },
  {
   "cell_type": "markdown",
   "metadata": {},
   "source": [
    "高斯核：$k(x^i,x)=exp(- \\gamma \\Vert x-x^i \\Vert ^2)$。`sklearn` 中的参数为 `kernel = rbf` ，是默认参数。$\\gamma$ 就是展宽，胖瘦，平滑or变化剧烈\n",
    "    \n",
    "多项式核：$k(x^i,x)=((x^i)^T x)^b$    \n",
    "    \n",
    "线性核：$k(x^i,x)=(x^i)^T x$\n",
    "    "
   ]
  },
  {
   "cell_type": "markdown",
   "metadata": {},
   "source": [
    "### 1.5.1 线性核"
   ]
  },
  {
   "cell_type": "code",
   "execution_count": 10,
   "metadata": {},
   "outputs": [
    {
     "name": "stdout",
     "output_type": "stream",
     "text": [
      "Training accuracy: 1.0000\n",
      "==========================================================================\n",
      "Testing Accuracy: 0.9147\n"
     ]
    }
   ],
   "source": [
    "from sklearn import metrics\n",
    "\n",
    "lr_cv_predict_train = clf.predict(X_train)\n",
    "# training metrics\n",
    "print(\"Training accuracy: {0:.4f}\".format(metrics.accuracy_score(y_train, lr_cv_predict_train)))    #format表示假引号，后面是精度的调用指令\n",
    "\n",
    "print(\"==========================================================================\")\n",
    "\n",
    "lr_cv_predict_test = clf.predict(X_test)\n",
    "\n",
    "# training metrics\n",
    "print(\"Testing Accuracy: {0:.4f}\".format(metrics.accuracy_score(y_test, lr_cv_predict_test)))"
   ]
  },
  {
   "cell_type": "markdown",
   "metadata": {},
   "source": [
    "### 1.5.2 高斯核"
   ]
  },
  {
   "cell_type": "code",
   "execution_count": 11,
   "metadata": {},
   "outputs": [
    {
     "name": "stdout",
     "output_type": "stream",
     "text": [
      "Training accuracy: 0.9780\n",
      "==========================================================================\n",
      "Testing Accuracy: 0.9370\n"
     ]
    }
   ],
   "source": [
    "clf = svm.SVC(kernel='rbf',gamma='auto')    #（kernel  核函数（高斯核函数是rbf)（c就是分类的意思）\n",
    "clf.fit(X_train, y_train.ravel())    #.ravel y是个m*1的列矢量，变为m个列矢量    C是带宽\n",
    "\n",
    "lr_cv_predict_train = clf.predict(X_train)\n",
    "# training metrics\n",
    "print(\"Training accuracy: {0:.4f}\".format(metrics.accuracy_score(y_train, lr_cv_predict_train)))\n",
    "\n",
    "print(\"==========================================================================\")\n",
    "\n",
    "lr_cv_predict_test = clf.predict(X_test)\n",
    "\n",
    "# training metrics\n",
    "print(\"Testing Accuracy: {0:.4f}\".format(metrics.accuracy_score(y_test, lr_cv_predict_test)))"
   ]
  },
  {
   "cell_type": "markdown",
   "metadata": {},
   "source": [
    "### 1.5.3 多项式核"
   ]
  },
  {
   "cell_type": "code",
   "execution_count": 12,
   "metadata": {},
   "outputs": [
    {
     "name": "stdout",
     "output_type": "stream",
     "text": [
      "Training accuracy: 0.8830\n",
      "==========================================================================\n",
      "Testing Accuracy: 0.8467\n"
     ]
    }
   ],
   "source": [
    "clf = svm.SVC(kernel='poly',gamma='auto')    #（kernel  核函数（多项式函数是poly)（c就是分类的意思）\n",
    "clf.fit(X_train, y_train.ravel())    #.ravel y是个m*1的列矢量，变为m个列矢量    C是带宽\n",
    "\n",
    "lr_cv_predict_train = clf.predict(X_train)\n",
    "# training metrics\n",
    "print(\"Training accuracy: {0:.4f}\".format(metrics.accuracy_score(y_train, lr_cv_predict_train))) #format表示假引号，后面是精度的调用指令\n",
    "\n",
    "print(\"==========================================================================\")\n",
    "\n",
    "lr_cv_predict_test = clf.predict(X_test)\n",
    "\n",
    "# training metrics\n",
    "print(\"Testing Accuracy: {0:.4f}\".format(metrics.accuracy_score(y_test, lr_cv_predict_test)))"
   ]
  },
  {
   "cell_type": "code",
   "execution_count": 45,
   "metadata": {},
   "outputs": [
    {
     "data": {
      "text/plain": [
       "'0.978'"
      ]
     },
     "execution_count": 45,
     "metadata": {},
     "output_type": "execute_result"
    }
   ],
   "source": [
    "a = format(metrics.accuracy_score(y_train, lr_cv_predict_train))\n",
    "a"
   ]
  },
  {
   "cell_type": "code",
   "execution_count": 38,
   "metadata": {},
   "outputs": [
    {
     "name": "stdout",
     "output_type": "stream",
     "text": [
      "线性核-Training accuracy     1.0000\n",
      "线性核-Testing accuracy      0.9147\n",
      "高斯核-Training accuracy     0.9780\n",
      "高斯核-Testing accuracy      0.9370\n",
      "多项式核-Training accuracy    0.8830\n",
      "多项式核-Testing accuracy     0.8467\n",
      "dtype: float64\n"
     ]
    },
    {
     "data": {
      "image/png": "[encoded data removed]",
      "text/plain": [
       "<Figure size 1440x720 with 1 Axes>"
      ]
     },
     "metadata": {
      "needs_background": "light"
     },
     "output_type": "display_data"
    }
   ],
   "source": [
    "TA = [1.0000,0.9147,0.9780,0.9370,0.8830,0.8467]\n",
    "x = ['线性核-Training accuracy','线性核-Testing accuracy','高斯核-Training accuracy','高斯核-Testing accuracy','多项式核-Training accuracy','多项式核-Testing accuracy']\n",
    "training = pd.Series(TA,x)\n",
    "print(training)\n",
    "plt.figure(figsize=(20,10))\n",
    "fig2 = plt.bar(x,TA); "
   ]
  },
  {
   "cell_type": "markdown",
   "metadata": {},
   "source": [
    "在`gamma = auto`, `C=1`时，经过判断，高斯核函数学习较好，线性核函数为过学习，而多项式核为欠学习"
   ]
  },
  {
   "cell_type": "markdown",
   "metadata": {},
   "source": [
    "## 1.6 以高斯为核函数，调节参数C"
   ]
  },
  {
   "cell_type": "markdown",
   "metadata": {},
   "source": [
    "C：惩罚参数，默认为1.0。\n",
    "\n",
    "C越大，对误分类的惩罚增大，泛化能力弱。C越小，对误分类的惩罚减小，泛化能力强。"
   ]
  },
  {
   "cell_type": "code",
   "execution_count": 8,
   "metadata": {},
   "outputs": [],
   "source": [
    "c = np.logspace(-7,1,8)        #log空间划分数组\n",
    "Training_accuracy = []\n",
    "Testing_Accuracy = []\n",
    "for i in range(8):\n",
    "    clf = svm.SVC(C=c[i],kernel='rbf',gamma='auto')    #（kernel  核函数（多项式函数是poly)（c就是分类的意思）\n",
    "    clf.fit(X_train, y_train.ravel())    #.ravel y是个m*1的列矢量，变为m个列矢量    C是带宽\n",
    "\n",
    "    lr_cv_predict_train = clf.predict(X_train)\n",
    "    # training metrics\n",
    "    Training_accuracy.append(metrics.accuracy_score(y_train, lr_cv_predict_train))\n",
    "\n",
    "    lr_cv_predict_test = clf.predict(X_test)\n",
    "\n",
    "    # training metrics\n",
    "    Testing_Accuracy.append(metrics.accuracy_score(y_test, lr_cv_predict_test))\n"
   ]
  },
  {
   "cell_type": "code",
   "execution_count": 10,
   "metadata": {},
   "outputs": [
    {
     "name": "stderr",
     "output_type": "stream",
     "text": [
      "D:\\software\\anaconda\\lib\\site-packages\\matplotlib\\mathtext.py:843: MathTextWarning: Font 'default' does not have a glyph for '-' [U+2212], substituting with a dummy symbol.\n",
      "  MathTextWarning)\n"
     ]
    },
    {
     "data": {
      "image/png": "[encoded data removed]",
      "text/plain": [
       "<Figure size 432x288 with 1 Axes>"
      ]
     },
     "metadata": {
      "needs_background": "light"
     },
     "output_type": "display_data"
    }
   ],
   "source": [
    "fig1, = plot(c,Training_accuracy,'ko');             #加逗号是为了输出图例\n",
    "fig2, = plot(c,Testing_Accuracy,\"k--\");\n",
    "legend(handles=[fig1, fig2], labels=['训练精度-C', '推广精度-C'])           #输出图例\n",
    "#legend(handles=[fig1,fig2,fig3], labels=['sinc','fitting result','data'])\n",
    "plt.title(\"高斯核函数下γ=auto，C为变量的精度图\")\n",
    "xlabel(\"c\")\n",
    "ylabel(\"训练精度/推广精度\")\n",
    "plt.xscale('log')"
   ]
  },
  {
   "cell_type": "code",
   "execution_count": 67,
   "metadata": {},
   "outputs": [
    {
     "data": {
      "image/png": "[encoded data removed]",
      "text/plain": [
       "<Figure size 432x288 with 1 Axes>"
      ]
     },
     "metadata": {
      "needs_background": "light"
     },
     "output_type": "display_data"
    }
   ],
   "source": [
    "#利用特殊点画图\n",
    "n_accuracy = np.array([0.000001, 0.000005, 0.00001, 0.00005, 0.0001, 0.001])\n",
    "accuracy = np.array([0.1123, 0.2657, 0.5910, 0.8977, 0.8677, 0.9290])\n",
    "\n",
    "plt.title(\"高斯核函数下γ=auto，C为变量的精度图\")\n",
    "plot(n_accuracy, accuracy)\n",
    "plt.scatter(n_accuracy, accuracy)\n",
    "plt.xlabel(\"C\")\n",
    "plt.ylabel(\"训练精度/推广精度\")\n",
    "plt.xscale('log')\n",
    "\n",
    "plt.show()"
   ]
  },
  {
   "cell_type": "markdown",
   "metadata": {},
   "source": [
    "由图可知，C相对较小比较好。"
   ]
  },
  {
   "cell_type": "markdown",
   "metadata": {},
   "source": [
    "## 1.7 以高斯为核函数，调节参数 $γ$"
   ]
  },
  {
   "cell_type": "markdown",
   "metadata": {},
   "source": [
    "γ的物理意义是RBF的幅宽，它会影响每个支持向量对应的高斯的作用范围，从而影响泛化性能。\n",
    "\n",
    "如果γ设的太大，会很小，很小的高斯分布长得又高又瘦，会造成只会作用于支持向量样本附近，对于未知样本分类效果很差，存在训练准确率可以很高，(如果让σ无穷小，则理论上，高斯核的SVM可以拟合任何非线性数据，但容易过拟合)而测试准确率不高的可能，就是通常说的过拟合；\n",
    "\n",
    "而如果设的过小，则会造成平滑效应太大，无法在训练集上得到特别高的准确率，也会影响测试集的准确率，为欠学习\n"
   ]
  },
  {
   "cell_type": "code",
   "execution_count": 13,
   "metadata": {},
   "outputs": [],
   "source": [
    "Gamma = np.logspace(-4,1,7)        #log空间划分数组\n",
    "Training_accuracy = []\n",
    "Testing_Accuracy = []\n",
    "for i in range(7):\n",
    "    clf = svm.SVC(kernel='rbf',gamma=Gamma[i])    #（kernel  核函数（多项式函数是poly)（c就是分类的意思）\n",
    "    clf.fit(X_train, y_train.ravel())    #.ravel y是个m*1的列矢量，变为m个列矢量    C是带宽\n",
    "\n",
    "    lr_cv_predict_train = clf.predict(X_train)\n",
    "    # training metrics\n",
    "    Training_accuracy.append(metrics.accuracy_score(y_train, lr_cv_predict_train))\n",
    "\n",
    "\n",
    "    lr_cv_predict_test = clf.predict(X_test)\n",
    "\n",
    "    # training metrics\n",
    "    Testing_Accuracy.append(metrics.accuracy_score(y_test, lr_cv_predict_test))\n"
   ]
  },
  {
   "cell_type": "code",
   "execution_count": 14,
   "metadata": {},
   "outputs": [
    {
     "data": {
      "text/plain": [
       "Text(0, 0.5, '训练精度/推广精度')"
      ]
     },
     "execution_count": 14,
     "metadata": {},
     "output_type": "execute_result"
    },
    {
     "name": "stderr",
     "output_type": "stream",
     "text": [
      "D:\\software\\anaconda\\lib\\site-packages\\matplotlib\\mathtext.py:843: MathTextWarning: Font 'default' does not have a glyph for '-' [U+2212], substituting with a dummy symbol.\n",
      "  MathTextWarning)\n"
     ]
    },
    {
     "data": {
      "image/png": "[encoded data removed]",
      "text/plain": [
       "<Figure size 432x288 with 1 Axes>"
      ]
     },
     "metadata": {
      "needs_background": "light"
     },
     "output_type": "display_data"
    }
   ],
   "source": [
    "fig3, = plot(Gamma,Training_accuracy,'ko');             #加逗号是为了输出图例\n",
    "fig4, = plot(Gamma,Testing_Accuracy,\"k--\");\n",
    "legend(handles=[fig3, fig4], labels=['训练精度-γ', '推广精度-γ'])           #输出图例\n",
    "\n",
    "#legend(handles=[fig1,fig2,fig3], labels=['sinc','fitting result','data'])\n",
    "plt.title(\"高斯核函数下C=1，γ为变量的精度图\")\n",
    "plt.xscale('log')\n",
    "xlabel(\"γ\")\n",
    "ylabel(\"训练精度/推广精度\")"
   ]
  },
  {
   "cell_type": "code",
   "execution_count": 65,
   "metadata": {},
   "outputs": [
    {
     "data": {
      "image/png": "[encoded data removed]",
      "text/plain": [
       "<Figure size 432x288 with 1 Axes>"
      ]
     },
     "metadata": {
      "needs_background": "light"
     },
     "output_type": "display_data"
    }
   ],
   "source": [
    "#利用特殊点画图\n",
    "n_accuracy = np.array([0.01, 0.05, 0.07, 0.09, 0.1, 0.2])\n",
    "accuracy = np.array([0.9350, 0.8803, 0.8370, 0.7853, 0.187, 0.1123])\n",
    "\n",
    "plt.title(\"高斯核函数下C=1，γ为变量的精度图\")\n",
    "plot(n_accuracy, accuracy)\n",
    "plt.scatter(n_accuracy, accuracy)\n",
    "plt.xlabel(\"γ\")\n",
    "plt.ylabel(\"训练精度/推广精度\")\n",
    "#plt.xscale('log')\n",
    "\n",
    "plt.show()"
   ]
  },
  {
   "cell_type": "markdown",
   "metadata": {},
   "source": [
    "在以高斯为核函数, `C=1`时，由图可知，γ相对较大比较好"
   ]
  },
  {
   "cell_type": "markdown",
   "metadata": {},
   "source": [
    "## 总结：\n",
    "\n",
    "小一点的Ｃ和大一点的γ的推广能力比较强．核函数选高斯函数比较好。\n",
    "\n",
    "多项式核容易欠学习，线性核容易过学习。\n",
    "\n",
    "Ｃ（分类阈值）适当高一些会提高分类精度，但是太高会跨过数据，因此对数据有要求。\n",
    "\n",
    "γ越大表示高斯函数展宽越宽，推广能力强，但是太大也会导致精度欠学习，而且运行时间巨长."
   ]
  },
  {
   "cell_type": "markdown",
   "metadata": {},
   "source": [
    "# 2 探索 [scikit-learn](https://scikit-learn.org/stable/documentation.html)"
   ]
  },
  {
   "cell_type": "markdown",
   "metadata": {},
   "source": [
    "*scikit-learn* 是基于`Numpy`的非常成熟的 Python 机器学习库。里面包含了几乎所有除 *深度学习* 以外的机器学习算法。是学习机器学习的很好的参考资料。"
   ]
  },
  {
   "cell_type": "markdown",
   "metadata": {},
   "source": [
    "## 2.1 SGDClassfier"
   ]
  },
  {
   "cell_type": "code",
   "execution_count": 55,
   "metadata": {},
   "outputs": [
    {
     "name": "stderr",
     "output_type": "stream",
     "text": [
      "D:\\software\\anaconda\\lib\\site-packages\\sklearn\\linear_model\\stochastic_gradient.py:166: FutureWarning: max_iter and tol parameters have been added in SGDClassifier in 0.19. If both are left unset, they default to max_iter=5 and tol=None. If tol is not None, max_iter defaults to max_iter=1000. From 0.21, default max_iter will be 1000, and default tol will be 1e-3.\n",
      "  FutureWarning)\n"
     ]
    },
    {
     "name": "stdout",
     "output_type": "stream",
     "text": [
      "Training accuracy: 0.9330\n",
      "==========================================================================\n",
      "Testing Accuracy: 0.9100\n"
     ]
    }
   ],
   "source": [
    "from sklearn.linear_model import SGDClassifier\n",
    "\n",
    "clf = SGDClassifier(random_state = 0)\n",
    "clf.fit(X_train, y_train.ravel())\n",
    "lr_cv_predict_train = clf.predict(X_train)\n",
    "# training metrics\n",
    "print(\"Training accuracy: {0:.4f}\".format(metrics.accuracy_score(y_train, lr_cv_predict_train)))\n",
    "\n",
    "print(\"==========================================================================\")\n",
    "\n",
    "lr_cv_predict_test = clf.predict(X_test)\n",
    "\n",
    "# training metrics\n",
    "print(\"Testing Accuracy: {0:.4f}\".format(metrics.accuracy_score(y_test, lr_cv_predict_test)))"
   ]
  },
  {
   "cell_type": "code",
   "execution_count": 56,
   "metadata": {},
   "outputs": [
    {
     "data": {
      "text/plain": [
       "SGDClassifier(alpha=0.0001, average=False, class_weight=None,\n",
       "       early_stopping=False, epsilon=0.1, eta0=0.0, fit_intercept=True,\n",
       "       l1_ratio=0.15, learning_rate='optimal', loss='hinge', max_iter=None,\n",
       "       n_iter=None, n_iter_no_change=5, n_jobs=None, penalty='l2',\n",
       "       power_t=0.5, random_state=0, shuffle=True, tol=None,\n",
       "       validation_fraction=0.1, verbose=0, warm_start=False)"
      ]
     },
     "execution_count": 56,
     "metadata": {},
     "output_type": "execute_result"
    }
   ],
   "source": [
    "clf"
   ]
  },
  {
   "cell_type": "markdown",
   "metadata": {},
   "source": [
    "## 2.2 随机森林 "
   ]
  },
  {
   "cell_type": "code",
   "execution_count": 57,
   "metadata": {},
   "outputs": [
    {
     "name": "stdout",
     "output_type": "stream",
     "text": [
      "Training accuracy: 0.9984\n",
      "==========================================================================\n",
      "Testing Accuracy: 0.9117\n"
     ]
    }
   ],
   "source": [
    "from sklearn.ensemble import RandomForestClassifier\n",
    "\n",
    "clf = RandomForestClassifier(n_estimators=10)\n",
    "\n",
    "clf.fit(X_train, y_train.ravel()) \n",
    "lr_cv_predict_train = clf.predict(X_train)\n",
    "# training metrics\n",
    "print(\"Training accuracy: {0:.4f}\".format(metrics.accuracy_score(y_train, lr_cv_predict_train)))\n",
    "\n",
    "print(\"==========================================================================\")\n",
    "\n",
    "lr_cv_predict_test = clf.predict(X_test)\n",
    "\n",
    "# training metrics\n",
    "print(\"Testing Accuracy: {0:.4f}\".format(metrics.accuracy_score(y_test, lr_cv_predict_test)))"
   ]
  },
  {
   "cell_type": "code",
   "execution_count": 58,
   "metadata": {},
   "outputs": [
    {
     "data": {
      "text/plain": [
       "RandomForestClassifier(bootstrap=True, class_weight=None, criterion='gini',\n",
       "            max_depth=None, max_features='auto', max_leaf_nodes=None,\n",
       "            min_impurity_decrease=0.0, min_impurity_split=None,\n",
       "            min_samples_leaf=1, min_samples_split=2,\n",
       "            min_weight_fraction_leaf=0.0, n_estimators=10, n_jobs=None,\n",
       "            oob_score=False, random_state=None, verbose=0,\n",
       "            warm_start=False)"
      ]
     },
     "execution_count": 58,
     "metadata": {},
     "output_type": "execute_result"
    }
   ],
   "source": [
    "clf"
   ]
  },
  {
   "cell_type": "markdown",
   "metadata": {},
   "source": [
    "## 2.3 自动交叉验证的 Logistic Regression"
   ]
  },
  {
   "cell_type": "markdown",
   "metadata": {},
   "source": [
    "算出最佳超参数"
   ]
  },
  {
   "cell_type": "code",
   "execution_count": 59,
   "metadata": {},
   "outputs": [
    {
     "name": "stderr",
     "output_type": "stream",
     "text": [
      "D:\\software\\anaconda\\lib\\site-packages\\sklearn\\linear_model\\logistic.py:758: ConvergenceWarning: lbfgs failed to converge. Increase the number of iterations.\n",
      "  \"of iterations.\", ConvergenceWarning)\n",
      "D:\\software\\anaconda\\lib\\site-packages\\sklearn\\linear_model\\logistic.py:758: ConvergenceWarning: lbfgs failed to converge. Increase the number of iterations.\n",
      "  \"of iterations.\", ConvergenceWarning)\n",
      "D:\\software\\anaconda\\lib\\site-packages\\sklearn\\linear_model\\logistic.py:758: ConvergenceWarning: lbfgs failed to converge. Increase the number of iterations.\n",
      "  \"of iterations.\", ConvergenceWarning)\n",
      "D:\\software\\anaconda\\lib\\site-packages\\sklearn\\linear_model\\logistic.py:758: ConvergenceWarning: lbfgs failed to converge. Increase the number of iterations.\n",
      "  \"of iterations.\", ConvergenceWarning)\n",
      "D:\\software\\anaconda\\lib\\site-packages\\sklearn\\linear_model\\logistic.py:758: ConvergenceWarning: lbfgs failed to converge. Increase the number of iterations.\n",
      "  \"of iterations.\", ConvergenceWarning)\n",
      "D:\\software\\anaconda\\lib\\site-packages\\sklearn\\linear_model\\logistic.py:758: ConvergenceWarning: lbfgs failed to converge. Increase the number of iterations.\n",
      "  \"of iterations.\", ConvergenceWarning)\n",
      "D:\\software\\anaconda\\lib\\site-packages\\sklearn\\linear_model\\logistic.py:758: ConvergenceWarning: lbfgs failed to converge. Increase the number of iterations.\n",
      "  \"of iterations.\", ConvergenceWarning)\n",
      "D:\\software\\anaconda\\lib\\site-packages\\sklearn\\linear_model\\logistic.py:758: ConvergenceWarning: lbfgs failed to converge. Increase the number of iterations.\n",
      "  \"of iterations.\", ConvergenceWarning)\n",
      "D:\\software\\anaconda\\lib\\site-packages\\sklearn\\linear_model\\logistic.py:758: ConvergenceWarning: lbfgs failed to converge. Increase the number of iterations.\n",
      "  \"of iterations.\", ConvergenceWarning)\n",
      "D:\\software\\anaconda\\lib\\site-packages\\sklearn\\linear_model\\logistic.py:758: ConvergenceWarning: lbfgs failed to converge. Increase the number of iterations.\n",
      "  \"of iterations.\", ConvergenceWarning)\n"
     ]
    },
    {
     "name": "stdout",
     "output_type": "stream",
     "text": [
      "Training accuracy: 0.9437\n",
      "==========================================================================\n",
      "Testing Accuracy: 0.9167\n"
     ]
    }
   ],
   "source": [
    "from sklearn.linear_model import LogisticRegressionCV\n",
    "clf = LogisticRegressionCV(Cs=10,max_iter=100,cv= 10,multi_class='auto')  #分成10份，做十次交叉验证，求平均得到最佳的超参数\n",
    "\n",
    "clf.fit(X_train, y_train.ravel()) \n",
    "lr_cv_predict_train = clf.predict(X_train)\n",
    "# training metrics\n",
    "print(\"Training accuracy: {0:.4f}\".format(metrics.accuracy_score(y_train, lr_cv_predict_train)))\n",
    "\n",
    "print(\"==========================================================================\")\n",
    "\n",
    "lr_cv_predict_test = clf.predict(X_test)\n",
    "\n",
    "# training metrics\n",
    "print(\"Testing Accuracy: {0:.4f}\".format(metrics.accuracy_score(y_test, lr_cv_predict_test)))"
   ]
  },
  {
   "cell_type": "code",
   "execution_count": 60,
   "metadata": {},
   "outputs": [
    {
     "data": {
      "text/plain": [
       "LogisticRegressionCV(Cs=10, class_weight=None, cv=10, dual=False,\n",
       "           fit_intercept=True, intercept_scaling=1.0, max_iter=100,\n",
       "           multi_class='auto', n_jobs=None, penalty='l2',\n",
       "           random_state=None, refit=True, scoring=None, solver='lbfgs',\n",
       "           tol=0.0001, verbose=0)"
      ]
     },
     "execution_count": 60,
     "metadata": {},
     "output_type": "execute_result"
    }
   ],
   "source": [
    "clf"
   ]
  },
  {
   "cell_type": "code",
   "execution_count": null,
   "metadata": {},
   "outputs": [],
   "source": []
  }
 ],
 "metadata": {
  "kernelspec": {
   "display_name": "Python 3",
   "language": "python",
   "name": "python3"
  },
  "language_info": {
   "codemirror_mode": {
    "name": "ipython",
    "version": 3
   },
   "file_extension": ".py",
   "mimetype": "text/x-python",
   "name": "python",
   "nbconvert_exporter": "python",
   "pygments_lexer": "ipython3",
   "version": "3.7.3"
  }
 },
 "nbformat": 4,
 "nbformat_minor": 2
}
