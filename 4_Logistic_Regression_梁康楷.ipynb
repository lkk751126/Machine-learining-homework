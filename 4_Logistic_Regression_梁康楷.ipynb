{
 "cells": [
  {
   "cell_type": "markdown",
   "metadata": {},
   "source": [
    "## 作业\n",
    "\n",
    "- 用 Logistic Regression 分类以下数据集,计算训练 Accuracy 和 F1-score\n",
    "- 用同样的方式生成验证集进行验证，计算验证 Accuracy 和 F1-score\n",
    "- 确定最优特征数（最高幂次）\n",
    "- （选做）用 L2 正则化，确定最优正则化系数"
   ]
  },
  {
   "cell_type": "code",
   "execution_count": 108,
   "metadata": {
    "scrolled": true
   },
   "outputs": [
    {
     "data": {
      "image/png": "[encoded data removed]",
      "text/plain": [
       "<Figure size 432x288 with 1 Axes>"
      ]
     },
     "metadata": {
      "needs_background": "light"
     },
     "output_type": "display_data"
    }
   ],
   "source": [
    "from sklearn.datasets.samples_generator import make_blobs\n",
    "from sklearn.datasets.samples_generator import make_circles\n",
    "\n",
    "XX,yy = make_circles(n_samples=100,noise= 0.05,)\n",
    "m = XX.shape[0]\n",
    "plt.plot(XX[np.where(yy == 1),0],XX[(np.where(yy == 1)),1],'ro');\n",
    "plt.plot(XX[np.where(yy == 0),0],XX[(np.where(yy == 0)),1],'bo');"
   ]
  },
  {
   "cell_type": "markdown",
   "metadata": {},
   "source": [
    "这个图实际包含三个变量，一种俯视图，蓝色0，红色为1，x1,x2各为一个变量"
   ]
  },
  {
   "cell_type": "markdown",
   "metadata": {},
   "source": [
    "# 1 Logistic Regression 分类以下数据集"
   ]
  },
  {
   "cell_type": "code",
   "execution_count": 126,
   "metadata": {},
   "outputs": [],
   "source": [
    "import pandas as pd  # 导入库\n",
    "import numpy as np\n",
    "from pylab import plot, xlabel, ylabel, legend, figure, contour\n",
    "%matplotlib inline     \n",
    "#上行具体作用：当调用matplotlib.pyplot的绘图函数plot()进行绘图的时候，或者生成一个figure画布的时候，可以直接在python console里面生成图像。\n",
    "import matplotlib # 注意这个也要import一次,原因不是很清楚\n",
    "import matplotlib.pyplot as plt\n",
    "import matplotlib.font_manager as fm\n",
    "# 使用Matplotlib的字体管理器加载中文字体\n",
    "my_font=fm.FontProperties(fname=\"C:\\Windows\\Fonts\\simsunb.ttf\")\n",
    "plt.rcParams['font.sans-serif']=['SimHei']\n",
    "\n",
    "#解决负号'-'显示为方块的问题\n",
    "matplotlib.rcParams['axes.unicode_minus'] = False\n"
   ]
  },
  {
   "cell_type": "markdown",
   "metadata": {},
   "source": [
    "# 1.1 logistic regression 的 cost function与sigmoid函数"
   ]
  },
  {
   "cell_type": "markdown",
   "metadata": {},
   "source": [
    "矩阵形式:$$ J = -\\frac{1}{m}[Y^T\\log(g(X\\Theta))+(\\mathbb{1}-Y)^T\\log(\\mathbb{1}-g(X\\Theta))]$$\n",
    "sigmoid函数：$$g(z)=\\frac{1}{1+e^{-z}}$$"
   ]
  },
  {
   "cell_type": "code",
   "execution_count": 127,
   "metadata": {},
   "outputs": [],
   "source": [
    "# logistic regression 的 cost function\n",
    "def CostFunction(X,Theta,Y,m):\n",
    "    z = np.dot(X,Theta)\n",
    "    h = sigmod(z)\n",
    "    H=np.log10(h)\n",
    "    H1 =np.log10(1-h) \n",
    "    Y1=1-Y\n",
    "    return -(np.dot(Y.T,H)+np.dot(Y1.T,H1))/m\n",
    "# sigmod 函数\n",
    "def sigmod(z):\n",
    "    return 1/(1+np.exp(-z))"
   ]
  },
  {
   "cell_type": "markdown",
   "metadata": {},
   "source": [
    "## 1.2 二维的Feature Mapping"
   ]
  },
  {
   "cell_type": "markdown",
   "metadata": {},
   "source": [
    "|$1$|$x_1$|$x_2$|$x_3$|$x_4$|$x_5$|$x_6$|$x_7$|$x_8$|$x_9$|...|\n",
    "|---|-----|-----|-----|-----|-----|-----|-----|-----|-----|---|\n",
    "|$1$|$x_1$|$x_2$|$x_1^2$|$x_1 x_2$|$x_2^2$|$x_1^3$|$x_1^2 x_2$|$x_1 x_2^2$|$x_2^3$|...|"
   ]
  },
  {
   "cell_type": "code",
   "execution_count": 143,
   "metadata": {},
   "outputs": [],
   "source": [
    "# n 表示最高阶幂函数的幂次\n",
    "def FeatureMapping(x1,x2,n):     \n",
    "    \"\"\"\n",
    "    定义幂函数特征项\n",
    "    {x1,x2}--训练集的 x 值的两个分量\n",
    "    n-- 表示最高阶幂次\n",
    "    输出 (m,2n+1) 的 np.array\n",
    "    \"\"\"\n",
    "    m = len(x1)\n",
    "    f = 2*n+1 # \n",
    "    XX = np.ones((m,1))\n",
    "   \n",
    "    for i in np.arange(1,n+1):\n",
    "        for j in np.arange(i+1):\n",
    "            g=np.power(x1,i-j)*np.power(x2,j)\n",
    "            XX = np.column_stack((XX,g))\n",
    "    return XX"
   ]
  },
  {
   "cell_type": "code",
   "execution_count": 149,
   "metadata": {},
   "outputs": [
    {
     "name": "stdout",
     "output_type": "stream",
     "text": [
      "最高次幂： 8 \n",
      " 特征数： 45\n"
     ]
    }
   ],
   "source": [
    "n = 8\n",
    "x1 = XX[:,0]\n",
    "x2 = XX[:,1]\n",
    "X = FeatureMapping(x1,x2,n)\n",
    "\n",
    "# 给定最高次幂 n , 计算特征数\n",
    "k = 0\n",
    "for i in np.arange(n+2):\n",
    "    k = i+k\n",
    "#（k特征数）    \n",
    "# set the random initial values for Theta\n",
    "Theta=np.random.rand(k).reshape(k,1) \n",
    "print(\"最高次幂：\",n ,\"\\n\", \"特征数：\",k)"
   ]
  },
  {
   "cell_type": "markdown",
   "metadata": {},
   "source": [
    "关于[column_stack](https://blog.csdn.net/Jack_kun/article/details/82811229)"
   ]
  },
  {
   "cell_type": "markdown",
   "metadata": {},
   "source": [
    "## 1.3 Training"
   ]
  },
  {
   "cell_type": "markdown",
   "metadata": {},
   "source": [
    "$$\\Theta:=\\Theta-\\frac{\\alpha}{m}X^T(g(X\\Theta)-Y)+\\lambda\\Theta_1$$\n",
    "$$J = -\\frac{1}{m}[Y^T\\log(g(X\\Theta))+(\\mathbb{1}-Y)^T\\log(\\mathbb{1}-g(X\\Theta))]+\\frac{\\lambda}{2m}\\Theta_1^T\\Theta_1$$"
   ]
  },
  {
   "cell_type": "code",
   "execution_count": 130,
   "metadata": {},
   "outputs": [
    {
     "name": "stdout",
     "output_type": "stream",
     "text": [
      "Final J value: 0.001126635378655313\n"
     ]
    },
    {
     "data": {
      "image/png": "[encoded data removed]",
      "text/plain": [
       "<Figure size 432x288 with 1 Axes>"
      ]
     },
     "metadata": {
      "needs_background": "light"
     },
     "output_type": "display_data"
    }
   ],
   "source": [
    "iter=200000;    # 梯度下降迭代次数\n",
    "alpha=0.5;        # 学习步长\n",
    "lamda = 0; # 正则化系数\n",
    "m = len(x1)\n",
    "Y = yy.reshape(m,1)\n",
    "# 准备储存每步迭代的 loss function 值\n",
    "J_history=np.zeros((iter,1))\n",
    "\n",
    "for i in np.arange(iter):\n",
    "    z=np.dot(X,Theta)\n",
    "    h=sigmod(z)\n",
    "    Theta1 = np.copy(Theta) # 用于计算正则化项的权重，注意要去掉第一个权重\n",
    "    Theta1[0,0]= 0 # 去掉第一个权重,因为给了2个1的系数，但事实上只需要一个就好了\n",
    "    Theta = Theta -alpha/m*(np.dot(X.T,h-Y)+lamda*Theta1)                         #对耗散函数求导的结果\n",
    "    J_history[i,0] = CostFunction(X,Theta,Y,m)+lamda/2/m*np.dot(Theta1.T,Theta1)       #后面为正则化\n",
    "    \n",
    "plt.plot(J_history[:,0],\"b-\",label=\"cost function\");\n",
    "plt.xlabel(\"iter\")\n",
    "plt.ylabel(\"$J$\")\n",
    "plt.legend(loc=\"best\");\n",
    "print(\"Final J value:\",J_history[-1,0])\n",
    "\n",
    "# 将训练的得到权重和预测的分类存储下来。\n",
    "Theta_prediction = Theta\n",
    "Y_prediction = sigmod(np.dot(FeatureMapping(x1,x2,n),Theta_prediction))"
   ]
  },
  {
   "cell_type": "markdown",
   "metadata": {},
   "source": [
    "对特征做标准化处理，是为了使得正则化可以起作用。要确保所有特征的衡量标准统一"
   ]
  },
  {
   "cell_type": "markdown",
   "metadata": {},
   "source": [
    "## 1.4 画出分类边界"
   ]
  },
  {
   "cell_type": "code",
   "execution_count": 83,
   "metadata": {},
   "outputs": [
    {
     "data": {
      "image/png": "[encoded data removed]",
      "text/plain": [
       "<Figure size 720x576 with 1 Axes>"
      ]
     },
     "metadata": {
      "needs_background": "light"
     },
     "output_type": "display_data"
    }
   ],
   "source": [
    "# 定义网格点的 Feature Mapping 函数\n",
    "def FeatureMappingS(x1,x2,n):     \n",
    "    \"\"\"\n",
    "    定义幂函数特征项\n",
    "    x1,x2--训练集的 x 值的两个分量\n",
    "    n-- 表示最高阶幂次\n",
    "    输出：(1,2*n+1)的 np.array\n",
    "    \"\"\"\n",
    "    XX = np.ones((1,1))       #产生二维1*1矩阵,数值为1\n",
    "   \n",
    "    for i in np.arange(1,n+1):\n",
    "        for j in np.arange(i+1):\n",
    "            g=np.power(x1,i-j)*np.power(x2,j)\n",
    "            XX = np.column_stack((XX,g))\n",
    "    return XX\n",
    "\n",
    "u = np.linspace(-1.2,1.2,100)\n",
    "v = np.linspace(-1.2,1.2,100)\n",
    "z = np.zeros((100,100))\n",
    "#画出每个点对应的z值\n",
    "for i in np.arange(100):\n",
    "    for j in np.arange(100):\n",
    "        z[i,j]=np.dot(FeatureMappingS(u[i],v[j],n),Theta_prediction)          #X*theta，还没有作用于sigmoid\n",
    "\n",
    "\n",
    "Z = z.T\n",
    "figure(figsize=(10,8))\n",
    "\n",
    "# 画分类边界 Z=0\n",
    "contour(u,v,Z,0)           #等高线, 0是只画高度为0的线，因为sigmoid函数的分类边界为0，且Z本身是一个网格化了的结果\n",
    "legend(labels=['Predicted Boundary'],loc='best')\n",
    "# 画样本点\n",
    "plot(x1[np.where(yy==1)],x2[np.where(yy==1)],\"r*\",label=\"y=1\")\n",
    "plot(x1[np.where(yy==0)],x2[np.where(yy==0)],\"b^\",label=\"y=0\")\n",
    "\n",
    "\n",
    "\n",
    "xlabel('$x_1$')\n",
    "ylabel('$x_2$')\n",
    "plt.axis([-1.2,1.2,-1.2,1.2]) # plt.axis([Xmin,Xmax,Ymin,Ymax])\n",
    "legend(bbox_to_anchor=(0.21,1.13));\n",
    "plt.title(\"Predicted Boundary\");"
   ]
  },
  {
   "cell_type": "markdown",
   "metadata": {},
   "source": [
    "这里产生了疑问为什么图例无法输出呢？\n",
    "\n",
    "因为这是等高线，由多个颜色构成，事实上Z=0才是分界面，也因此只有一条线，看起来就像一个二维的函数一样，但是事实上本身是三维降维的一个结果。画出3D图就知道了"
   ]
  },
  {
   "cell_type": "code",
   "execution_count": 84,
   "metadata": {},
   "outputs": [
    {
     "data": {
      "image/png": "[encoded data removed]",
      "text/plain": [
       "<Figure size 432x288 with 1 Axes>"
      ]
     },
     "metadata": {
      "needs_background": "light"
     },
     "output_type": "display_data"
    }
   ],
   "source": [
    "from mpl_toolkits.mplot3d import Axes3D\n",
    "fig = plt.figure()\n",
    "ax = Axes3D(fig)\n",
    "Zz = sigmod(Z)\n",
    "ax.scatter(u, v, Zz[:,1])\n",
    "plt.show()"
   ]
  },
  {
   "cell_type": "markdown",
   "metadata": {},
   "source": [
    "补充：那么学习的函数代入训练值得输出值到底是什么样的呢？"
   ]
  },
  {
   "cell_type": "code",
   "execution_count": 78,
   "metadata": {},
   "outputs": [
    {
     "name": "stdout",
     "output_type": "stream",
     "text": [
      "[[-18.45927643]\n",
      " [ -5.90833492]\n",
      " [-13.29458101]\n",
      " [ 13.3138555 ]\n",
      " [  8.68468579]\n",
      " [ -9.54909484]\n",
      " [-18.97875777]\n",
      " [-32.10422644]\n",
      " [  5.22659283]\n",
      " [ -8.95125637]\n",
      " [  9.06939159]\n",
      " [-22.67607105]\n",
      " [ 13.21182822]\n",
      " [ -9.67972936]\n",
      " [ -9.0457018 ]\n",
      " [ 11.75726036]\n",
      " [ -9.22175388]\n",
      " [ 10.68942627]\n",
      " [  5.67301349]\n",
      " [ 11.44872599]\n",
      " [  7.00695281]\n",
      " [ 14.77246968]\n",
      " [-26.67412739]\n",
      " [-23.19547027]\n",
      " [-26.41032259]\n",
      " [  5.57036209]\n",
      " [ -6.2053396 ]\n",
      " [  9.27508365]\n",
      " [ -6.84791924]\n",
      " [ 14.29535699]\n",
      " [  8.98400283]\n",
      " [ 11.49667492]\n",
      " [  8.59797777]\n",
      " [ -4.57945676]\n",
      " [  3.92018477]\n",
      " [ -8.82646916]\n",
      " [ 10.07048533]\n",
      " [ -8.6358469 ]\n",
      " [  7.90758426]\n",
      " [-16.8981138 ]\n",
      " [  5.54755718]\n",
      " [-16.62505031]\n",
      " [ -5.50113033]\n",
      " [-27.06946139]\n",
      " [ 11.92327566]\n",
      " [  4.57948149]\n",
      " [ 12.96448908]\n",
      " [ 11.76454123]\n",
      " [  8.00933314]\n",
      " [  6.12968268]\n",
      " [-22.6938897 ]\n",
      " [ 12.28815169]\n",
      " [-17.60382075]\n",
      " [  6.48616511]\n",
      " [ -4.7165465 ]\n",
      " [ -5.8833274 ]\n",
      " [-12.07135445]\n",
      " [-10.86595406]\n",
      " [-11.97587031]\n",
      " [ -6.8415117 ]\n",
      " [ 11.22710017]\n",
      " [  8.92221194]\n",
      " [  5.9605444 ]\n",
      " [-10.24483873]\n",
      " [  7.26202207]\n",
      " [ 15.65381462]\n",
      " [ -8.40008596]\n",
      " [-12.8494399 ]\n",
      " [ 16.70771287]\n",
      " [-10.73574875]\n",
      " [ 14.81642673]\n",
      " [ 13.92175897]\n",
      " [-19.49534206]\n",
      " [  7.46287566]\n",
      " [ 10.53602872]\n",
      " [-17.50736259]\n",
      " [-16.8692173 ]\n",
      " [ -3.34073426]\n",
      " [ -5.33630364]\n",
      " [  5.78929807]\n",
      " [ -5.99534881]\n",
      " [-17.01849317]\n",
      " [ 13.34316869]\n",
      " [ -4.4172309 ]\n",
      " [ 11.72089724]\n",
      " [-19.79960859]\n",
      " [ 16.60583474]\n",
      " [  5.62647427]\n",
      " [ 13.43869366]\n",
      " [ -5.85738458]\n",
      " [-11.94459646]\n",
      " [-24.28434636]\n",
      " [ -8.11775415]\n",
      " [  3.2870899 ]\n",
      " [ 16.10359788]\n",
      " [ 17.70843717]\n",
      " [  9.22465199]\n",
      " [ -6.95002474]\n",
      " [ -6.33645534]\n",
      " [ 11.36316426]]\n",
      "[[9.62139626e-09]\n",
      " [2.70934615e-03]\n",
      " [1.68358906e-06]\n",
      " [9.99998349e-01]\n",
      " [9.99830872e-01]\n",
      " [7.12606624e-05]\n",
      " [5.72308535e-09]\n",
      " [1.14106823e-14]\n",
      " [9.94656905e-01]\n",
      " [1.29557478e-04]\n",
      " [9.99884877e-01]\n",
      " [1.41875522e-10]\n",
      " [9.99998171e-01]\n",
      " [6.25345162e-05]\n",
      " [1.17882795e-04]\n",
      " [9.99992168e-01]\n",
      " [9.88553648e-05]\n",
      " [9.99977216e-01]\n",
      " [9.96574285e-01]\n",
      " [9.99989337e-01]\n",
      " [9.99095255e-01]\n",
      " [9.99999616e-01]\n",
      " [2.60359641e-12]\n",
      " [8.43986024e-11]\n",
      " [3.38955460e-12]\n",
      " [9.96205353e-01]\n",
      " [2.01455653e-03]\n",
      " [9.99906278e-01]\n",
      " [1.06053653e-03]\n",
      " [9.99999381e-01]\n",
      " [9.99874616e-01]\n",
      " [9.99989836e-01]\n",
      " [9.99815556e-01]\n",
      " [1.01562606e-02]\n",
      " [9.80548440e-01]\n",
      " [1.46774092e-04]\n",
      " [9.99957692e-01]\n",
      " [1.77591515e-04]\n",
      " [9.99632193e-01]\n",
      " [4.58397669e-08]\n",
      " [9.96118162e-01]\n",
      " [6.02327045e-08]\n",
      " [4.06555843e-03]\n",
      " [1.75340520e-12]\n",
      " [9.99993366e-01]\n",
      " [9.89843988e-01]\n",
      " [9.99997658e-01]\n",
      " [9.99992225e-01]\n",
      " [9.99667764e-01]\n",
      " [9.97827458e-01]\n",
      " [1.39369881e-10]\n",
      " [9.99995394e-01]\n",
      " [2.26338159e-08]\n",
      " [9.98477937e-01]\n",
      " [8.86669872e-03]\n",
      " [2.77776389e-03]\n",
      " [5.72103872e-06]\n",
      " [1.90971173e-05]\n",
      " [6.29423385e-06]\n",
      " [1.06734650e-03]\n",
      " [9.99986692e-01]\n",
      " [9.99866625e-01]\n",
      " [9.97428124e-01]\n",
      " [3.55391990e-05]\n",
      " [9.99298804e-01]\n",
      " [9.99999841e-01]\n",
      " [2.24797450e-04]\n",
      " [2.62759250e-06]\n",
      " [9.99999945e-01]\n",
      " [2.17527472e-05]\n",
      " [9.99999632e-01]\n",
      " [9.99999101e-01]\n",
      " [3.41413367e-09]\n",
      " [9.99426326e-01]\n",
      " [9.99973439e-01]\n",
      " [2.49257953e-08]\n",
      " [4.71836998e-08]\n",
      " [3.41998968e-02]\n",
      " [4.79057076e-03]\n",
      " [9.96949206e-01]\n",
      " [2.48412195e-03]\n",
      " [4.06408055e-08]\n",
      " [9.99998396e-01]\n",
      " [1.19237118e-02]\n",
      " [9.99991878e-01]\n",
      " [2.51848428e-09]\n",
      " [9.99999939e-01]\n",
      " [9.96411672e-01]\n",
      " [9.99998542e-01]\n",
      " [2.85056170e-03]\n",
      " [6.49418788e-06]\n",
      " [2.84081126e-11]\n",
      " [2.98108722e-04]\n",
      " [9.63983253e-01]\n",
      " [9.99999899e-01]\n",
      " [9.99999980e-01]\n",
      " [9.99901431e-01]\n",
      " [9.57693382e-04]\n",
      " [1.76743781e-03]\n",
      " [9.99988385e-01]]\n"
     ]
    }
   ],
   "source": [
    "a=np.dot(X,Theta)\n",
    "print(a)\n",
    "b=sigmod(a)\n",
    "print(b)\n",
    "c = np.linspace(1,100,100)"
   ]
  },
  {
   "cell_type": "code",
   "execution_count": 80,
   "metadata": {},
   "outputs": [
    {
     "data": {
      "text/plain": [
       "[<matplotlib.lines.Line2D at 0x2f2f61c6518>]"
      ]
     },
     "execution_count": 80,
     "metadata": {},
     "output_type": "execute_result"
    },
    {
     "data": {
      "image/png": "[encoded data removed]",
      "text/plain": [
       "<Figure size 432x288 with 1 Axes>"
      ]
     },
     "metadata": {
      "needs_background": "light"
     },
     "output_type": "display_data"
    }
   ],
   "source": [
    "plot(c,b,\"ro\")"
   ]
  },
  {
   "cell_type": "markdown",
   "metadata": {},
   "source": [
    "事实上对应的就是0和1，而sigmoid函数是一个除了中心范围，负无穷趋近0，正无穷趋近1得函数，所以可以通过调节x得输出值那变相调节结果输出0 or 1"
   ]
  },
  {
   "cell_type": "markdown",
   "metadata": {},
   "source": [
    "## 2.1 Confusion Matrix 和 F1-score"
   ]
  },
  {
   "cell_type": "markdown",
   "metadata": {},
   "source": [
    "Confusion Matrix:\n",
    "\n",
    "$t_p$为真阳性，即数据为真，预测结果也为真。\n",
    "\n",
    "$f_p$为假阳性，即数据为真，预测结果却为假。\n",
    "\n",
    "$f_n$为假阴性，即数据为假，预测结果却为真。\n",
    "\n",
    "$t_n$为真阴性，即数据为假，预测结果也为假。\n",
    "\n",
    "各类指标: Accuracy()、Precision(正确率)、Recall(召回率)、F1-score()"
   ]
  },
  {
   "cell_type": "code",
   "execution_count": 137,
   "metadata": {},
   "outputs": [
    {
     "name": "stdout",
     "output_type": "stream",
     "text": [
      "n: 8\n",
      "Training Accuracy: 1.0\n",
      "Training Precision: 1.0\n",
      "Training Recall: 1.0\n",
      "Training F1-score: 1.0\n"
     ]
    }
   ],
   "source": [
    "Y_target=yy.reshape(100,1)\n",
    "# Confusion Matrix\n",
    "tp = len(np.where((Y_prediction >= 0.5) & (Y_target == 1))[0])\n",
    "tn = len(np.where((Y_prediction < 0.5) & (Y_target == 0))[0])\n",
    "fp = len(np.where((Y_prediction < 0.5) & (Y_target == 1))[0])\n",
    "fn = len(np.where((Y_prediction >= 0.5) & (Y_target == 0))[0])\n",
    "\n",
    "# 计算各类指标\n",
    "Accuracy = (tp+tn)/(tp+tn+fp+fn)\n",
    "Precision = tp/(tp+fp)\n",
    "Recall = tp/(tp+fn)\n",
    "F1_score = 2/(1/Recall + 1/Precision)\n",
    "\n",
    "print(\"n:\",n)\n",
    "print(\"Training Accuracy:\",Accuracy )\n",
    "print(\"Training Precision:\",Precision )\n",
    "print(\"Training Recall:\",Recall )\n",
    "print(\"Training F1-score:\",F1_score)"
   ]
  },
  {
   "cell_type": "markdown",
   "metadata": {},
   "source": [
    "计算结果是这样说明，fp,fn等于0，所以才使指标全为一，事实上这些指标都是越接近1，越好"
   ]
  },
  {
   "cell_type": "markdown",
   "metadata": {},
   "source": [
    "## 2.2 Cross Valiadation"
   ]
  },
  {
   "cell_type": "code",
   "execution_count": 138,
   "metadata": {},
   "outputs": [
    {
     "data": {
      "image/png": "[encoded data removed]",
      "text/plain": [
       "<Figure size 432x288 with 1 Axes>"
      ]
     },
     "metadata": {
      "needs_background": "light"
     },
     "output_type": "display_data"
    }
   ],
   "source": [
    "# 验证集样本数\n",
    "m_cv = np.int(0.3*m)\n",
    "\n",
    "# 生成验证集\n",
    "X_cv,y_cv = make_circles(n_samples=30,noise= 0.05,)\n",
    "m = X_cv.shape[0]\n",
    "x1 = X_cv[:,0]\n",
    "x2 = X_cv[:,1]\n",
    "\n",
    "# 画验证集的样本点\n",
    "plt.plot(X_cv[np.where(y_cv == 1),0],X_cv[(np.where(y_cv == 1)),1],'ro',label=\"y=1\");\n",
    "plt.plot(X_cv[np.where(y_cv == 0),0],X_cv[(np.where(y_cv == 0)),1],'bo',label=\"y=0\");\n",
    "\n",
    "Y_prediction = sigmod(np.dot(FeatureMapping(x1,x2,n),Theta_prediction))"
   ]
  },
  {
   "cell_type": "code",
   "execution_count": 117,
   "metadata": {},
   "outputs": [
    {
     "data": {
      "image/png": "[encoded data removed]",
      "text/plain": [
       "<Figure size 432x288 with 1 Axes>"
      ]
     },
     "metadata": {
      "needs_background": "light"
     },
     "output_type": "display_data"
    }
   ],
   "source": [
    "# 画预测的分类边界\n",
    "contour(u,v,Z,0)\n",
    "\n",
    "# 画验证集的样本点\n",
    "plt.plot(x1[np.where(y_cv == 1)],x2[(np.where(y_cv == 1))],'ro',label=\"y=1\");\n",
    "plt.plot(x1[np.where(y_cv == 0)],x2[(np.where(y_cv == 0))],'bo',label=\"y=0\");\n",
    "\n",
    "plt.xlabel('$x_1$')\n",
    "plt.ylabel('$x_2$')\n",
    "plt.title(\"CV Set\")\n",
    "#plt.legend(loc=\"center\")\n",
    "plt.legend()\n",
    "plt.axis([-1.2,1.2,-1.2,1.2]); # plt.axis([Xmin,Xmax,Ymin,Ymax])"
   ]
  },
  {
   "cell_type": "markdown",
   "metadata": {},
   "source": [
    "## 2.2.1 Confusion Matrix 和 F1-score"
   ]
  },
  {
   "cell_type": "code",
   "execution_count": 139,
   "metadata": {},
   "outputs": [
    {
     "name": "stdout",
     "output_type": "stream",
     "text": [
      "n: 8\n",
      "Training Accuracy: 0.9666666666666667\n",
      "Training Precision: 0.9333333333333333\n",
      "Training Recall: 1.0\n",
      "Training F1-score: 0.9655172413793105\n"
     ]
    }
   ],
   "source": [
    "Y_cv=y_cv.reshape(30,1)\n",
    "# Confusion Matrix\n",
    "tp = len(np.where((Y_prediction >= 0.5) & (Y_cv == 1))[0])\n",
    "tn = len(np.where((Y_prediction < 0.5) & (Y_cv == 0))[0])\n",
    "fp = len(np.where((Y_prediction < 0.5) & (Y_cv == 1))[0])\n",
    "fn = len(np.where((Y_prediction >= 0.5) & (Y_cv == 0))[0])\n",
    "\n",
    "# 计算各类指标\n",
    "Accuracy = (tp+tn)/(tp+tn+fp+fn)\n",
    "Precision = tp/(tp+fp)\n",
    "Recall = tp/(tp+fn)\n",
    "F1_score = 2/(1/Recall + 1/Precision)\n",
    "\n",
    "print(\"n:\",n)\n",
    "print(\"Training Accuracy:\",Accuracy )\n",
    "print(\"Training Precision:\",Precision )\n",
    "print(\"Training Recall:\",Recall )\n",
    "print(\"Training F1-score:\",F1_score)"
   ]
  },
  {
   "cell_type": "markdown",
   "metadata": {},
   "source": [
    "## 2.3 确定最优特征数"
   ]
  },
  {
   "cell_type": "code",
   "execution_count": 165,
   "metadata": {},
   "outputs": [
    {
     "name": "stdout",
     "output_type": "stream",
     "text": [
      "最高次幂： 1 \n",
      " 特征数： 3\n",
      "最高次幂： 2 \n",
      " 特征数： 6\n",
      "最高次幂： 3 \n",
      " 特征数： 10\n",
      "最高次幂： 4 \n",
      " 特征数： 15\n",
      "最高次幂： 5 \n",
      " 特征数： 21\n",
      "最高次幂： 6 \n",
      " 特征数： 28\n",
      "最高次幂： 7 \n",
      " 特征数： 36\n",
      "最高次幂： 8 \n",
      " 特征数： 45\n",
      "最高次幂： 9 \n",
      " 特征数： 55\n",
      "最高次幂： 10 \n",
      " 特征数： 66\n",
      "最高次幂： 11 \n",
      " 特征数： 78\n",
      "最高次幂： 12 \n",
      " 特征数： 91\n",
      "最高次幂： 13 \n",
      " 特征数： 105\n",
      "最高次幂： 14 \n",
      " 特征数： 120\n"
     ]
    },
    {
     "data": {
      "text/plain": [
       "Text(0, 0.5, '误差值')"
      ]
     },
     "execution_count": 165,
     "metadata": {},
     "output_type": "execute_result"
    },
    {
     "data": {
      "image/png": "[encoded data removed]",
      "text/plain": [
       "<Figure size 432x288 with 1 Axes>"
      ]
     },
     "metadata": {
      "needs_background": "light"
     },
     "output_type": "display_data"
    }
   ],
   "source": [
    "#训练集\n",
    "# 固定训练集\n",
    "np.random.seed(3)      #(每次计算会有相同的样本，前提是编号1相对应)\n",
    "\n",
    "n = []\n",
    "for k in range(14):\n",
    "    n.append(k+1)\n",
    "Error = []\n",
    "j = 0\n",
    "x1 = XX[:,0]\n",
    "x2 = XX[:,1]\n",
    "iter=200000;    # 梯度下降迭代次数\n",
    "alpha=0.5;        # 学习步长\n",
    "lamda = 0; # 正则化系数\n",
    "m = len(x1)\n",
    "Y = yy.reshape(m,1)\n",
    "\n",
    "for i in range(14):\n",
    "    X = FeatureMapping(x1,x2,n[j])\n",
    "    # 给定最高次幂 n , 计算特征数\n",
    "    u = 0\n",
    "    for w in np.arange(n[j]+2):\n",
    "        u = w+u\n",
    "    #（u特征数）    \n",
    "    # set the random initial values for Theta\n",
    "    Theta=np.random.rand(u).reshape(u,1) \n",
    "    print(\"最高次幂：\",n[j] ,\"\\n\", \"特征数：\",u)\n",
    "    # 准备储存每步迭代的 loss function 值\n",
    "    J_history=np.zeros((iter,1))\n",
    "\n",
    "    for s in np.arange(iter):\n",
    "        z=np.dot(X,Theta)\n",
    "        h=sigmod(z)\n",
    "        Theta1 = np.copy(Theta) # 用于计算正则化项的权重，注意要去掉第一个权重\n",
    "        Theta1[0,0]= 0 # 去掉第一个权重,因为给了2个1的系数，但事实上只需要一个就好了\n",
    "        Theta = Theta -alpha/m*(np.dot(X.T,h-Y)+lamda*Theta1)                         #对耗散函数求导的结果\n",
    "        J_history[s,0] = CostFunction(X,Theta,Y,m)+lamda/2/m*np.dot(Theta1.T,Theta1)       #后面为正则化\n",
    "    Error.append(J_history[-1,0])\n",
    "    j+= 1\n",
    "fig5, = plot(n,Error);             #加逗号是为了输出图例\n",
    "legend(handles=[fig5], labels=['误差值-特征数最高次幂'])           #输出图例\n",
    "xlabel(\"x-最高次幂\")\n",
    "ylabel(\"误差值\")"
   ]
  },
  {
   "cell_type": "markdown",
   "metadata": {},
   "source": [
    "由于1的误差值实在太大，看不出其他的最高次幂哪个在固定迭代次数后是最好的"
   ]
  },
  {
   "cell_type": "code",
   "execution_count": 170,
   "metadata": {},
   "outputs": [
    {
     "name": "stdout",
     "output_type": "stream",
     "text": [
      "最高次幂： 2 \n",
      " 特征数： 6\n",
      "最高次幂： 3 \n",
      " 特征数： 10\n",
      "最高次幂： 4 \n",
      " 特征数： 15\n",
      "最高次幂： 5 \n",
      " 特征数： 21\n",
      "最高次幂： 6 \n",
      " 特征数： 28\n",
      "最高次幂： 7 \n",
      " 特征数： 36\n",
      "最高次幂： 8 \n",
      " 特征数： 45\n",
      "最高次幂： 9 \n",
      " 特征数： 55\n",
      "最高次幂： 10 \n",
      " 特征数： 66\n",
      "最高次幂： 11 \n",
      " 特征数： 78\n",
      "最高次幂： 12 \n",
      " 特征数： 91\n",
      "最高次幂： 13 \n",
      " 特征数： 105\n",
      "最高次幂： 14 \n",
      " 特征数： 120\n",
      "最高次幂： 15 \n",
      " 特征数： 136\n",
      "最高次幂： 16 \n",
      " 特征数： 153\n",
      "最高次幂： 17 \n",
      " 特征数： 171\n",
      "最高次幂： 18 \n",
      " 特征数： 190\n",
      "最高次幂： 19 \n",
      " 特征数： 210\n",
      "最高次幂： 20 \n",
      " 特征数： 231\n",
      "最高次幂： 21 \n",
      " 特征数： 253\n",
      "最高次幂： 22 \n",
      " 特征数： 276\n",
      "最高次幂： 23 \n",
      " 特征数： 300\n",
      "最高次幂： 24 \n",
      " 特征数： 325\n"
     ]
    },
    {
     "name": "stderr",
     "output_type": "stream",
     "text": [
      "D:\\software\\anaconda\\lib\\site-packages\\ipykernel_launcher.py:6: RuntimeWarning: divide by zero encountered in log10\n",
      "  \n"
     ]
    },
    {
     "name": "stdout",
     "output_type": "stream",
     "text": [
      "最高次幂： 25 \n",
      " 特征数： 351\n",
      "最高次幂： 26 \n",
      " 特征数： 378\n",
      "最高次幂： 27 \n",
      " 特征数： 406\n",
      "最高次幂： 28 \n",
      " 特征数： 435\n",
      "最高次幂： 29 \n",
      " 特征数： 465\n",
      "最高次幂： 30 \n",
      " 特征数： 496\n",
      "最高次幂： 31 \n",
      " 特征数： 528\n",
      "最高次幂： 32 \n",
      " 特征数： 561\n",
      "最高次幂： 33 \n",
      " 特征数： 595\n",
      "最高次幂： 34 \n",
      " 特征数： 630\n",
      "最高次幂： 35 \n",
      " 特征数： 666\n",
      "最高次幂： 36 \n",
      " 特征数： 703\n",
      "最高次幂： 37 \n",
      " 特征数： 741\n",
      "最高次幂： 38 \n",
      " 特征数： 780\n",
      "最高次幂： 39 \n",
      " 特征数： 820\n",
      "最高次幂： 40 \n",
      " 特征数： 861\n",
      "最高次幂： 41 \n",
      " 特征数： 903\n",
      "最高次幂： 42 \n",
      " 特征数： 946\n",
      "最高次幂： 43 \n",
      " 特征数： 990\n"
     ]
    },
    {
     "name": "stderr",
     "output_type": "stream",
     "text": [
      "D:\\software\\anaconda\\lib\\site-packages\\ipykernel_launcher.py:5: RuntimeWarning: divide by zero encountered in log10\n",
      "  \"\"\"\n"
     ]
    },
    {
     "name": "stdout",
     "output_type": "stream",
     "text": [
      "最高次幂： 44 \n",
      " 特征数： 1035\n",
      "最高次幂： 45 \n",
      " 特征数： 1081\n",
      "最高次幂： 46 \n",
      " 特征数： 1128\n",
      "最高次幂： 47 \n",
      " 特征数： 1176\n",
      "最高次幂： 48 \n",
      " 特征数： 1225\n",
      "最高次幂： 49 \n",
      " 特征数： 1275\n",
      "最高次幂： 50 \n",
      " 特征数： 1326\n",
      "最高次幂： 51 \n",
      " 特征数： 1378\n"
     ]
    },
    {
     "data": {
      "text/plain": [
       "Text(0, 0.5, '误差值')"
      ]
     },
     "execution_count": 170,
     "metadata": {},
     "output_type": "execute_result"
    },
    {
     "data": {
      "image/png": "[encoded data removed]",
      "text/plain": [
       "<Figure size 432x288 with 1 Axes>"
      ]
     },
     "metadata": {
      "needs_background": "light"
     },
     "output_type": "display_data"
    }
   ],
   "source": [
    "#训练集\n",
    "# 固定训练集\n",
    "np.random.seed(3)      #(每次计算会有相同的样本，前提是编号1相对应)\n",
    "\n",
    "n = []\n",
    "for k in range(50):\n",
    "    n.append(k+2)\n",
    "Error = []\n",
    "j = 0\n",
    "x1 = XX[:,0]\n",
    "x2 = XX[:,1]\n",
    "iter=20000;    # 梯度下降迭代次数\n",
    "alpha=1.1;        # 学习步长\n",
    "lamda = 0; # 正则化系数\n",
    "m = len(x1)\n",
    "Y = yy.reshape(m,1)\n",
    "\n",
    "for i in range(50):\n",
    "    X = FeatureMapping(x1,x2,n[j])\n",
    "    # 给定最高次幂 n , 计算特征数\n",
    "    u = 0\n",
    "    for w in np.arange(n[j]+2):\n",
    "        u = w+u\n",
    "    #（u特征数）    \n",
    "    # set the random initial values for Theta\n",
    "    Theta=np.random.rand(u).reshape(u,1) \n",
    "    print(\"最高次幂：\",n[j] ,\"\\n\", \"特征数：\",u)\n",
    "    # 准备储存每步迭代的 loss function 值\n",
    "    J_history=np.zeros((iter,1))\n",
    "\n",
    "    for s in np.arange(iter):\n",
    "        z=np.dot(X,Theta)\n",
    "        h=sigmod(z)\n",
    "        Theta1 = np.copy(Theta) # 用于计算正则化项的权重，注意要去掉第一个权重\n",
    "        Theta1[0,0]= 0 # 去掉第一个权重,因为给了2个1的系数，但事实上只需要一个就好了\n",
    "        Theta = Theta -alpha/m*(np.dot(X.T,h-Y)+lamda*Theta1)                         #对耗散函数求导的结果\n",
    "        J_history[s,0] = CostFunction(X,Theta,Y,m)+lamda/2/m*np.dot(Theta1.T,Theta1)       #后面为正则化\n",
    "    Error.append(J_history[-1,0])\n",
    "    j+= 1\n",
    "fig5, = plot(n,Error);             #加逗号是为了输出图例\n",
    "legend(handles=[fig5], labels=['误差值-特征数最高次幂'])           #输出图例\n",
    "xlabel(\"x-最高次幂\")\n",
    "ylabel(\"误差值\")"
   ]
  },
  {
   "cell_type": "markdown",
   "metadata": {},
   "source": [
    "理论上n，越大，误差值越小，理论与计算拟合的非常好，但这也导致没法寻找最优N,所以还要结合交叉验证，防止过学习"
   ]
  },
  {
   "cell_type": "code",
   "execution_count": 175,
   "metadata": {},
   "outputs": [
    {
     "name": "stdout",
     "output_type": "stream",
     "text": [
      "最高次幂： 2 \n",
      " 特征数： 6\n",
      "最高次幂： 3 \n",
      " 特征数： 10\n",
      "最高次幂： 4 \n",
      " 特征数： 15\n",
      "最高次幂： 5 \n",
      " 特征数： 21\n",
      "最高次幂： 6 \n",
      " 特征数： 28\n",
      "最高次幂： 7 \n",
      " 特征数： 36\n",
      "最高次幂： 8 \n",
      " 特征数： 45\n",
      "最高次幂： 9 \n",
      " 特征数： 55\n",
      "最高次幂： 10 \n",
      " 特征数： 66\n",
      "最高次幂： 11 \n",
      " 特征数： 78\n",
      "最高次幂： 12 \n",
      " 特征数： 91\n",
      "最高次幂： 13 \n",
      " 特征数： 105\n",
      "最高次幂： 14 \n",
      " 特征数： 120\n",
      "最高次幂： 15 \n",
      " 特征数： 136\n",
      "最高次幂： 16 \n",
      " 特征数： 153\n",
      "最高次幂： 17 \n",
      " 特征数： 171\n",
      "最高次幂： 18 \n",
      " 特征数： 190\n",
      "最高次幂： 19 \n",
      " 特征数： 210\n",
      "最高次幂： 20 \n",
      " 特征数： 231\n",
      "最高次幂： 21 \n",
      " 特征数： 253\n",
      "最高次幂： 22 \n",
      " 特征数： 276\n",
      "最高次幂： 23 \n",
      " 特征数： 300\n",
      "最高次幂： 24 \n",
      " 特征数： 325\n",
      "最高次幂： 25 \n",
      " 特征数： 351\n",
      "最高次幂： 26 \n",
      " 特征数： 378\n",
      "最高次幂： 27 \n",
      " 特征数： 406\n",
      "最高次幂： 28 \n",
      " 特征数： 435\n",
      "最高次幂： 29 \n",
      " 特征数： 465\n",
      "最高次幂： 30 \n",
      " 特征数： 496\n",
      "最高次幂： 31 \n",
      " 特征数： 528\n",
      "最高次幂： 32 \n",
      " 特征数： 561\n",
      "最高次幂： 33 \n",
      " 特征数： 595\n",
      "最高次幂： 34 \n",
      " 特征数： 630\n",
      "最高次幂： 35 \n",
      " 特征数： 666\n",
      "最高次幂： 36 \n",
      " 特征数： 703\n",
      "最高次幂： 37 \n",
      " 特征数： 741\n",
      "最高次幂： 38 \n",
      " 特征数： 780\n",
      "最高次幂： 39 \n",
      " 特征数： 820\n",
      "最高次幂： 40 \n",
      " 特征数： 861\n",
      "最高次幂： 41 \n",
      " 特征数： 903\n",
      "最高次幂： 42 \n",
      " 特征数： 946\n",
      "最高次幂： 43 \n",
      " 特征数： 990\n",
      "最高次幂： 44 \n",
      " 特征数： 1035\n",
      "最高次幂： 45 \n",
      " 特征数： 1081\n",
      "最高次幂： 46 \n",
      " 特征数： 1128\n",
      "最高次幂： 47 \n",
      " 特征数： 1176\n",
      "最高次幂： 48 \n",
      " 特征数： 1225\n",
      "最高次幂： 49 \n",
      " 特征数： 1275\n",
      "最高次幂： 50 \n",
      " 特征数： 1326\n",
      "最高次幂： 51 \n",
      " 特征数： 1378\n"
     ]
    },
    {
     "data": {
      "text/plain": [
       "Text(0, 0.5, '误差值')"
      ]
     },
     "execution_count": 175,
     "metadata": {},
     "output_type": "execute_result"
    },
    {
     "data": {
      "image/png": "[encoded data removed]",
      "text/plain": [
       "<Figure size 432x288 with 1 Axes>"
      ]
     },
     "metadata": {
      "needs_background": "light"
     },
     "output_type": "display_data"
    }
   ],
   "source": [
    "#交叉集\n",
    "# 固定训练集\n",
    "np.random.seed(5)      #(每次计算会有相同的样本，前提是编号1相对应)\n",
    "\n",
    "n = []\n",
    "for k in range(50):\n",
    "    n.append(k+2)\n",
    "Error = []\n",
    "j = 0\n",
    "iter=20000;    # 梯度下降迭代次数\n",
    "alpha=0.5;        # 学习步长\n",
    "lamda = 0; # 正则化系数\n",
    "x1 = XX[:,0]\n",
    "m = len(x1)\n",
    "Y = yy.reshape(m,1)\n",
    "\n",
    "for i in range(50):\n",
    "    x1 = XX[:,0]\n",
    "    x2 = XX[:,1]\n",
    "    X = FeatureMapping(x1,x2,n[j])\n",
    "    # 输出最高次幂 n , 计算特征数\n",
    "    u = 0\n",
    "    for w in np.arange(n[j]+2):\n",
    "        u = w+u\n",
    "    #（u特征数）    \n",
    "    # set the random initial values for Theta\n",
    "    np.random.seed(6)\n",
    "    Theta=np.random.rand(u).reshape(u,1) \n",
    "    print(\"最高次幂：\",n[j] ,\"\\n\", \"特征数：\",u)\n",
    "    # 准备储存每步迭代的 loss function 值\n",
    "    J_history=np.zeros((iter,1))\n",
    "\n",
    "    for s in np.arange(iter):\n",
    "        z=np.dot(X,Theta)\n",
    "        h=sigmod(z)\n",
    "        Theta1 = np.copy(Theta) # 用于计算正则化项的权重，注意要去掉第一个权重\n",
    "        Theta1[0,0]= 0 # 去掉第一个权重,因为给了2个1的系数，但事实上只需要一个就好了\n",
    "        Theta = Theta -alpha/m*(np.dot(X.T,h-Y)+lamda*Theta1)                         #对耗散函数求导的结果\n",
    "    x1 = X_cv[:,0]\n",
    "    x2 = X_cv[:,1]\n",
    "    X = FeatureMapping(x1,x2,n[j])\n",
    "    J_history[s,0] = CostFunction(X,Theta,Y_cv,m)+lamda/2/m*np.dot(Theta1.T,Theta1)\n",
    "    E = J_history[-1,0]\n",
    "    Error.append(E.item())\n",
    "\n",
    "    \n",
    "    j+= 1\n",
    "fig5, = plot(n,Error);             #加逗号是为了输出图例\n",
    "legend(handles=[fig5], labels=['误差值-特征数最高次幂'])           #输出图例\n",
    "xlabel(\"x-最高次幂\")\n",
    "ylabel(\"误差值\")"
   ]
  },
  {
   "cell_type": "code",
   "execution_count": 184,
   "metadata": {},
   "outputs": [
    {
     "name": "stdout",
     "output_type": "stream",
     "text": [
      "最高次幂： 19 \n",
      " 特征数： 210\n",
      "最高次幂： 20 \n",
      " 特征数： 231\n",
      "最高次幂： 21 \n",
      " 特征数： 253\n",
      "最高次幂： 22 \n",
      " 特征数： 276\n",
      "最高次幂： 23 \n",
      " 特征数： 300\n",
      "最高次幂： 24 \n",
      " 特征数： 325\n",
      "最高次幂： 25 \n",
      " 特征数： 351\n",
      "最高次幂： 26 \n",
      " 特征数： 378\n",
      "最高次幂： 27 \n",
      " 特征数： 406\n",
      "最高次幂： 28 \n",
      " 特征数： 435\n",
      "最高次幂： 29 \n",
      " 特征数： 465\n",
      "最高次幂： 30 \n",
      " 特征数： 496\n",
      "最高次幂： 31 \n",
      " 特征数： 528\n",
      "最高次幂： 32 \n",
      " 特征数： 561\n",
      "最高次幂： 33 \n",
      " 特征数： 595\n",
      "最高次幂： 34 \n",
      " 特征数： 630\n",
      "最高次幂： 35 \n",
      " 特征数： 666\n",
      "最高次幂： 36 \n",
      " 特征数： 703\n",
      "最高次幂： 37 \n",
      " 特征数： 741\n",
      "最高次幂： 38 \n",
      " 特征数： 780\n",
      "最高次幂： 39 \n",
      " 特征数： 820\n",
      "最高次幂： 40 \n",
      " 特征数： 861\n",
      "最高次幂： 41 \n",
      " 特征数： 903\n",
      "最高次幂： 42 \n",
      " 特征数： 946\n",
      "最高次幂： 43 \n",
      " 特征数： 990\n",
      "最高次幂： 44 \n",
      " 特征数： 1035\n",
      "最高次幂： 45 \n",
      " 特征数： 1081\n",
      "最高次幂： 46 \n",
      " 特征数： 1128\n",
      "最高次幂： 47 \n",
      " 特征数： 1176\n",
      "最高次幂： 48 \n",
      " 特征数： 1225\n",
      "最高次幂： 49 \n",
      " 特征数： 1275\n",
      "最高次幂： 50 \n",
      " 特征数： 1326\n",
      "最高次幂： 51 \n",
      " 特征数： 1378\n",
      "最高次幂： 52 \n",
      " 特征数： 1431\n",
      "最高次幂： 53 \n",
      " 特征数： 1485\n"
     ]
    },
    {
     "data": {
      "text/plain": [
       "Text(0, 0.5, '误差值')"
      ]
     },
     "execution_count": 184,
     "metadata": {},
     "output_type": "execute_result"
    },
    {
     "data": {
      "image/png": "[encoded data removed]",
      "text/plain": [
       "<Figure size 432x288 with 1 Axes>"
      ]
     },
     "metadata": {
      "needs_background": "light"
     },
     "output_type": "display_data"
    }
   ],
   "source": [
    "#交叉集\n",
    "# 固定训练集\n",
    "np.random.seed(5)      #(每次计算会有相同的样本，前提是编号1相对应)\n",
    "\n",
    "n = []\n",
    "for k in range(35):\n",
    "    n.append(k+19)\n",
    "Error = []\n",
    "j = 0\n",
    "iter=20000;    # 梯度下降迭代次数\n",
    "alpha=0.5;        # 学习步长\n",
    "lamda = 0; # 正则化系数\n",
    "x1 = XX[:,0]\n",
    "m = len(x1)\n",
    "Y = yy.reshape(m,1)\n",
    "\n",
    "for i in range(35):\n",
    "    x1 = XX[:,0]\n",
    "    x2 = XX[:,1]\n",
    "    X = FeatureMapping(x1,x2,n[j])\n",
    "    # 输出最高次幂 n , 计算特征数\n",
    "    u = 0\n",
    "    for w in np.arange(n[j]+2):\n",
    "        u = w+u\n",
    "    #（u特征数）    \n",
    "    # set the random initial values for Theta\n",
    "    Theta=np.random.rand(u).reshape(u,1) \n",
    "    print(\"最高次幂：\",n[j] ,\"\\n\", \"特征数：\",u)\n",
    "    # 准备储存每步迭代的 loss function 值\n",
    "    J_history=np.zeros((iter,1))\n",
    "\n",
    "    for s in np.arange(iter):\n",
    "        z=np.dot(X,Theta)\n",
    "        h=sigmod(z)\n",
    "        Theta1 = np.copy(Theta) # 用于计算正则化项的权重，注意要去掉第一个权重\n",
    "        Theta1[0,0]= 0 # 去掉第一个权重,因为给了2个1的系数，但事实上只需要一个就好了\n",
    "        Theta = Theta -alpha/m*(np.dot(X.T,h-Y)+lamda*Theta1)                         #对耗散函数求导的结果\n",
    "    x1 = X_cv[:,0]\n",
    "    x2 = X_cv[:,1]\n",
    "    X = FeatureMapping(x1,x2,n[j])\n",
    "    J_history[s,0] = CostFunction(X,Theta,Y_cv,m)+lamda/2/m*np.dot(Theta1.T,Theta1)\n",
    "    E = J_history[-1,0]\n",
    "    Error.append(E.item())\n",
    "\n",
    "    \n",
    "    j+= 1\n",
    "fig5, = plot(n,Error);             #加逗号是为了输出图例\n",
    "legend(handles=[fig5], labels=['误差值-特征数最高次幂'])           #输出图例\n",
    "xlabel(\"x-最高次幂\")\n",
    "ylabel(\"误差值\")"
   ]
  },
  {
   "cell_type": "code",
   "execution_count": 185,
   "metadata": {},
   "outputs": [
    {
     "name": "stdout",
     "output_type": "stream",
     "text": [
      "最高次幂： 39 \n",
      " 特征数： 820\n",
      "最高次幂： 40 \n",
      " 特征数： 861\n",
      "最高次幂： 41 \n",
      " 特征数： 903\n",
      "最高次幂： 42 \n",
      " 特征数： 946\n",
      "最高次幂： 43 \n",
      " 特征数： 990\n",
      "最高次幂： 44 \n",
      " 特征数： 1035\n",
      "最高次幂： 45 \n",
      " 特征数： 1081\n",
      "最高次幂： 46 \n",
      " 特征数： 1128\n",
      "最高次幂： 47 \n",
      " 特征数： 1176\n",
      "最高次幂： 48 \n",
      " 特征数： 1225\n",
      "最高次幂： 49 \n",
      " 特征数： 1275\n",
      "最高次幂： 50 \n",
      " 特征数： 1326\n",
      "最高次幂： 51 \n",
      " 特征数： 1378\n",
      "最高次幂： 52 \n",
      " 特征数： 1431\n",
      "最高次幂： 53 \n",
      " 特征数： 1485\n"
     ]
    },
    {
     "data": {
      "text/plain": [
       "Text(0, 0.5, '误差值')"
      ]
     },
     "execution_count": 185,
     "metadata": {},
     "output_type": "execute_result"
    },
    {
     "data": {
      "image/png": "[encoded data removed]",
      "text/plain": [
       "<Figure size 432x288 with 1 Axes>"
      ]
     },
     "metadata": {
      "needs_background": "light"
     },
     "output_type": "display_data"
    }
   ],
   "source": [
    "#交叉集\n",
    "# 固定训练集\n",
    "np.random.seed(5)      #(每次计算会有相同的样本，前提是编号1相对应)\n",
    "\n",
    "n = []\n",
    "for k in range(15):\n",
    "    n.append(k+39)\n",
    "Error = []\n",
    "j = 0\n",
    "iter=20000;    # 梯度下降迭代次数\n",
    "alpha=0.5;        # 学习步长\n",
    "lamda = 0; # 正则化系数\n",
    "x1 = XX[:,0]\n",
    "m = len(x1)\n",
    "Y = yy.reshape(m,1)\n",
    "\n",
    "for i in range(15):\n",
    "    x1 = XX[:,0]\n",
    "    x2 = XX[:,1]\n",
    "    X = FeatureMapping(x1,x2,n[j])\n",
    "    # 输出最高次幂 n , 计算特征数\n",
    "    u = 0\n",
    "    for w in np.arange(n[j]+2):\n",
    "        u = w+u\n",
    "    #（u特征数）    \n",
    "    # set the random initial values for Theta\n",
    "    Theta=np.random.rand(u).reshape(u,1) \n",
    "    print(\"最高次幂：\",n[j] ,\"\\n\", \"特征数：\",u)\n",
    "    # 准备储存每步迭代的 loss function 值\n",
    "    J_history=np.zeros((iter,1))\n",
    "\n",
    "    for s in np.arange(iter):\n",
    "        z=np.dot(X,Theta)\n",
    "        h=sigmod(z)\n",
    "        Theta1 = np.copy(Theta) # 用于计算正则化项的权重，注意要去掉第一个权重\n",
    "        Theta1[0,0]= 0 # 去掉第一个权重,因为给了2个1的系数，但事实上只需要一个就好了\n",
    "        Theta = Theta -alpha/m*(np.dot(X.T,h-Y)+lamda*Theta1)                         #对耗散函数求导的结果\n",
    "    x1 = X_cv[:,0]\n",
    "    x2 = X_cv[:,1]\n",
    "    X = FeatureMapping(x1,x2,n[j])\n",
    "    J_history[s,0] = CostFunction(X,Theta,Y_cv,m)+lamda/2/m*np.dot(Theta1.T,Theta1)\n",
    "    E = J_history[-1,0]\n",
    "    Error.append(E.item())\n",
    "\n",
    "    \n",
    "    j+= 1\n",
    "fig5, = plot(n,Error);             #加逗号是为了输出图例\n",
    "legend(handles=[fig5], labels=['误差值-特征数最高次幂'])           #输出图例\n",
    "xlabel(\"x-最高次幂\")\n",
    "ylabel(\"误差值\")"
   ]
  },
  {
   "cell_type": "markdown",
   "metadata": {},
   "source": [
    "综合来看，在不使用L2正则化的时候，n = 44的时候普适性较好，但其实这样判断有些问题，因为每次产生的随机数会有不同，所以带来的结果就是最佳次幂在n=42-52之前波动"
   ]
  },
  {
   "cell_type": "markdown",
   "metadata": {},
   "source": [
    "# 3 L2正则化"
   ]
  },
  {
   "cell_type": "markdown",
   "metadata": {},
   "source": [
    "由于之前已经确定了最佳次幂n = 44，接下来调节正则化系数实现交叉解的普适性，学习效果最好"
   ]
  },
  {
   "cell_type": "code",
   "execution_count": 192,
   "metadata": {},
   "outputs": [
    {
     "name": "stdout",
     "output_type": "stream",
     "text": [
      "最高次幂： 44 \n",
      " 特征数： 1035\n"
     ]
    },
    {
     "data": {
      "text/plain": [
       "Text(0, 0.5, '误差值')"
      ]
     },
     "execution_count": 192,
     "metadata": {},
     "output_type": "execute_result"
    },
    {
     "data": {
      "image/png": "[encoded data removed]",
      "text/plain": [
       "<Figure size 432x288 with 1 Axes>"
      ]
     },
     "metadata": {
      "needs_background": "light"
     },
     "output_type": "display_data"
    }
   ],
   "source": [
    "#交叉集\n",
    "# 固定训练集\n",
    "np.random.seed(5)      #(每次计算会有相同的样本，前提是编号1相对应)\n",
    "\n",
    "lamda = np.linspace(0,0.002,100) # 正则化系数\n",
    "n = 44\n",
    "Error = []\n",
    "j = 0\n",
    "iter=20000;    # 梯度下降迭代次数\n",
    "alpha=0.5;        # 学习步长\n",
    "x1 = XX[:,0]\n",
    "m = len(x1)\n",
    "Y = yy.reshape(m,1)\n",
    "# 输出最高次幂 n , 计算特征数\n",
    "u = 0\n",
    "for w in np.arange(n+2):\n",
    "    u = w+u\n",
    "#（u特征数）    \n",
    "# set the random initial values for Theta\n",
    "Theta=np.random.rand(u).reshape(u,1) \n",
    "print(\"最高次幂：\",n ,\"\\n\", \"特征数：\",u)\n",
    "# 准备储存每步迭代的 loss function 值\n",
    "for i in range(100):\n",
    "    x1 = XX[:,0]\n",
    "    x2 = XX[:,1]\n",
    "    X = FeatureMapping(x1,x2,n)\n",
    "    J_history=np.zeros((iter,1))\n",
    "\n",
    "    for s in np.arange(iter):\n",
    "        z=np.dot(X,Theta)\n",
    "        h=sigmod(z)\n",
    "        Theta1 = np.copy(Theta) # 用于计算正则化项的权重，注意要去掉第一个权重\n",
    "        Theta1[0,0]= 0 # 去掉第一个权重,因为给了2个1的系数，但事实上只需要一个就好了\n",
    "        Theta = Theta -alpha/m*(np.dot(X.T,h-Y)+lamda[j]*Theta1)                         #对耗散函数求导的结果\n",
    "    x1 = X_cv[:,0]\n",
    "    x2 = X_cv[:,1]\n",
    "    X = FeatureMapping(x1,x2,n)\n",
    "    J_history[s,0] = CostFunction(X,Theta,Y_cv,m)\n",
    "    E = J_history[-1,0]\n",
    "    Error.append(E.item())\n",
    "\n",
    "    \n",
    "    j+= 1\n",
    "fig5, = plot(lamda,Error);             #加逗号是为了输出图例\n",
    "legend(handles=[fig5], labels=['误差值-特征数最高次幂'])           #输出图例\n",
    "xlabel(\"lamda\")\n",
    "ylabel(\"误差值\")"
   ]
  },
  {
   "cell_type": "markdown",
   "metadata": {},
   "source": [
    "根据图像，正则化系数在0.0025左右可以得到最佳的学习系数，得到最优化系数"
   ]
  },
  {
   "cell_type": "code",
   "execution_count": 194,
   "metadata": {},
   "outputs": [
    {
     "name": "stdout",
     "output_type": "stream",
     "text": [
      "最高次幂： 44 \n",
      " 特征数： 1035\n"
     ]
    },
    {
     "data": {
      "image/png": "[encoded data removed]",
      "text/plain": [
       "<Figure size 720x576 with 1 Axes>"
      ]
     },
     "metadata": {
      "needs_background": "light"
     },
     "output_type": "display_data"
    }
   ],
   "source": [
    "n = 44\n",
    "x1 = XX[:,0]\n",
    "x2 = XX[:,1]\n",
    "X = FeatureMapping(x1,x2,n)\n",
    "\n",
    "# 给定最高次幂 n , 计算特征数\n",
    "k = 0\n",
    "for i in np.arange(n+2):\n",
    "    k = i+k\n",
    "#（k特征数）    \n",
    "# set the random initial values for Theta\n",
    "Theta=np.random.rand(k).reshape(k,1) \n",
    "print(\"最高次幂：\",n ,\"\\n\", \"特征数：\",k)\n",
    "iter=20000;    # 梯度下降迭代次数\n",
    "alpha=0.5;        # 学习步长\n",
    "lamda = 0.00025; # 正则化系数\n",
    "m = len(x1)\n",
    "Y = yy.reshape(m,1)\n",
    "# 准备储存每步迭代的 loss function 值\n",
    "J_history=np.zeros((iter,1))\n",
    "\n",
    "for i in np.arange(iter):\n",
    "    z=np.dot(X,Theta)\n",
    "    h=sigmod(z)\n",
    "    Theta1 = np.copy(Theta) # 用于计算正则化项的权重，注意要去掉第一个权重\n",
    "    Theta1[0,0]= 0 # 去掉第一个权重,因为给了2个1的系数，但事实上只需要一个就好了\n",
    "    Theta = Theta -alpha/m*(np.dot(X.T,h-Y)+lamda*Theta1)                         #对耗散函数求导的结果\n",
    "    \n",
    "\n",
    "# 将训练的得到权重和预测的分类存储下来。\n",
    "Theta_prediction = Theta\n",
    "Y_prediction = sigmod(np.dot(FeatureMapping(x1,x2,n),Theta_prediction))\n",
    "\n",
    "# 定义网格点的 Feature Mapping 函数\n",
    "def FeatureMappingS(x1,x2,n):     \n",
    "    \"\"\"\n",
    "    定义幂函数特征项\n",
    "    x1,x2--训练集的 x 值的两个分量\n",
    "    n-- 表示最高阶幂次\n",
    "    输出：(1,2*n+1)的 np.array\n",
    "    \"\"\"\n",
    "    XX = np.ones((1,1))       #产生二维1*1矩阵,数值为1\n",
    "   \n",
    "    for i in np.arange(1,n+1):\n",
    "        for j in np.arange(i+1):\n",
    "            g=np.power(x1,i-j)*np.power(x2,j)\n",
    "            XX = np.column_stack((XX,g))\n",
    "    return XX\n",
    "\n",
    "u = np.linspace(-1.2,1.2,100)\n",
    "v = np.linspace(-1.2,1.2,100)\n",
    "z = np.zeros((100,100))\n",
    "#画出每个点对应的z值\n",
    "for i in np.arange(100):\n",
    "    for j in np.arange(100):\n",
    "        z[i,j]=np.dot(FeatureMappingS(u[i],v[j],n),Theta_prediction)          #X*theta，还没有作用于sigmoid\n",
    "\n",
    "\n",
    "Z = z.T\n",
    "figure(figsize=(10,8))\n",
    "\n",
    "# 画分类边界 Z=0\n",
    "contour(u,v,Z,0)           #等高线, 0是只画高度为0的线，因为sigmoid函数的分类边界为0，且Z本身是一个网格化了的结果\n",
    "legend(labels=['Predicted Boundary'],loc='best')\n",
    "# 画样本点\n",
    "plot(x1[np.where(yy==1)],x2[np.where(yy==1)],\"r*\",label=\"y=1\")\n",
    "plot(x1[np.where(yy==0)],x2[np.where(yy==0)],\"b^\",label=\"y=0\")\n",
    "\n",
    "\n",
    "\n",
    "xlabel('$x_1$')\n",
    "ylabel('$x_2$')\n",
    "plt.axis([-1.2,1.2,-1.2,1.2]) # plt.axis([Xmin,Xmax,Ymin,Ymax])\n",
    "legend(bbox_to_anchor=(0.21,1.13));\n",
    "plt.title(\"Predicted Boundary\");"
   ]
  },
  {
   "cell_type": "markdown",
   "metadata": {},
   "source": [
    "Z = 0 的分界线不仅仅是一个圆，是一个拟合的结果，也没法去掉"
   ]
  },
  {
   "cell_type": "code",
   "execution_count": 195,
   "metadata": {},
   "outputs": [
    {
     "data": {
      "image/png": "[encoded data removed]",
      "text/plain": [
       "<Figure size 432x288 with 1 Axes>"
      ]
     },
     "metadata": {
      "needs_background": "light"
     },
     "output_type": "display_data"
    }
   ],
   "source": [
    "# 画预测的分类边界\n",
    "contour(u,v,Z,0)\n",
    "\n",
    "# 画验证集的样本点\n",
    "plt.plot(x1[np.where(y_cv == 1)],x2[(np.where(y_cv == 1))],'ro',label=\"y=1\");\n",
    "plt.plot(x1[np.where(y_cv == 0)],x2[(np.where(y_cv == 0))],'bo',label=\"y=0\");\n",
    "\n",
    "plt.xlabel('$x_1$')\n",
    "plt.ylabel('$x_2$')\n",
    "plt.title(\"CV Set\")\n",
    "#plt.legend(loc=\"center\")\n",
    "plt.legend()\n",
    "plt.axis([-1.2,1.2,-1.2,1.2]); # plt.axis([Xmin,Xmax,Ymin,Ymax])"
   ]
  },
  {
   "cell_type": "code",
   "execution_count": null,
   "metadata": {},
   "outputs": [],
   "source": []
  }
 ],
 "metadata": {
  "kernelspec": {
   "display_name": "Python 3",
   "language": "python",
   "name": "python3"
  },
  "language_info": {
   "codemirror_mode": {
    "name": "ipython",
    "version": 3
   },
   "file_extension": ".py",
   "mimetype": "text/x-python",
   "name": "python",
   "nbconvert_exporter": "python",
   "pygments_lexer": "ipython3",
   "version": "3.7.3"
  }
 },
 "nbformat": 4,
 "nbformat_minor": 2
}
