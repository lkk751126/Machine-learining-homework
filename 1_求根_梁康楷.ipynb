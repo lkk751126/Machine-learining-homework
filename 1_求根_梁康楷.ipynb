{
 "cells": [
  {
   "cell_type": "markdown",
   "metadata": {},
   "source": [
    "# 1. 第一次作业"
   ]
  },
  {
   "cell_type": "markdown",
   "metadata": {},
   "source": [
    "    修改如下代码，计算603的32次方根，可以构造自己的算法。注意提交作业的文件名格式：1_求根_姓名.ipynb。若用其它语言，请你用 word 的文件，将文字、代码、结果都加上。"
   ]
  },
  {
   "cell_type": "markdown",
   "metadata": {},
   "source": [
    "## 1.1 开32次方根"
   ]
  },
  {
   "cell_type": "markdown",
   "metadata": {},
   "source": [
    "### 1.1.1 算法一：二分法搜索的推广"
   ]
  },
  {
   "cell_type": "code",
   "execution_count": 21,
   "metadata": {},
   "outputs": [
    {
     "name": "stdout",
     "output_type": "stream",
     "text": [
      "low = 0.000000, high = 603.000000, ans = 443.000000\n",
      "low = 0.000000, high = 443.000000, ans = 221.500000\n",
      "low = 0.000000, high = 221.500000, ans = 110.750000\n",
      "low = 0.000000, high = 110.750000, ans = 55.375000\n",
      "low = 0.000000, high = 55.375000, ans = 27.687500\n",
      "low = 0.000000, high = 27.687500, ans = 13.843750\n",
      "low = 0.000000, high = 13.843750, ans = 6.921875\n",
      "low = 0.000000, high = 6.921875, ans = 3.460938\n",
      "low = 0.000000, high = 3.460938, ans = 1.730469\n",
      "low = 0.000000, high = 1.730469, ans = 0.865234\n",
      "low = 0.865234, high = 1.730469, ans = 1.297852\n",
      "low = 0.865234, high = 1.297852, ans = 1.081543\n",
      "low = 1.081543, high = 1.297852, ans = 1.189697\n",
      "low = 1.189697, high = 1.297852, ans = 1.243774\n",
      "low = 1.189697, high = 1.243774, ans = 1.216736\n",
      "low = 1.216736, high = 1.243774, ans = 1.230255\n",
      "low = 1.216736, high = 1.230255, ans = 1.223495\n",
      "low = 1.216736, high = 1.223495, ans = 1.220116\n",
      "low = 1.220116, high = 1.223495, ans = 1.221806\n",
      "low = 1.220116, high = 1.221806, ans = 1.220961\n",
      "low = 1.220961, high = 1.221806, ans = 1.221383\n",
      "low = 1.221383, high = 1.221806, ans = 1.221594\n",
      "low = 1.221383, high = 1.221594, ans = 1.221489\n",
      "low = 1.221383, high = 1.221489, ans = 1.221436\n",
      "low = 1.221436, high = 1.221489, ans = 1.221462\n",
      "low = 1.221462, high = 1.221489, ans = 1.221476\n",
      "low = 1.221476, high = 1.221489, ans = 1.221482\n",
      "low = 1.221476, high = 1.221482, ans = 1.221479\n",
      "low = 1.221476, high = 1.221479, ans = 1.221477\n",
      "low = 1.221476, high = 1.221477, ans = 1.221476\n",
      "low = 1.221476, high = 1.221476, ans = 1.221476\n",
      "low = 1.221476, high = 1.221476, ans = 1.221476\n",
      "low = 1.221476, high = 1.221476, ans = 1.221476\n",
      "low = 1.221476, high = 1.221476, ans = 1.221476\n",
      "low = 1.221476, high = 1.221476, ans = 1.221476\n",
      "low = 1.221476, high = 1.221476, ans = 1.221476\n",
      "low = 1.221476, high = 1.221476, ans = 1.221476\n",
      "low = 1.221476, high = 1.221476, ans = 1.221476\n",
      "low = 1.221476, high = 1.221476, ans = 1.221476\n",
      "low = 1.221476, high = 1.221476, ans = 1.221476\n",
      "low = 1.221476, high = 1.221476, ans = 1.221476\n",
      "low = 1.221476, high = 1.221476, ans = 1.221476\n",
      "low = 1.221476, high = 1.221476, ans = 1.221476\n",
      "low = 1.221476, high = 1.221476, ans = 1.221476\n",
      "low = 1.221476, high = 1.221476, ans = 1.221476\n",
      "numGuesses = 45\n",
      "1.2214759375226265 is close to 32 root of x\n"
     ]
    }
   ],
   "source": [
    "from random import randint\n",
    "y = 603 #选择开根常数\n",
    "epsilon = 0.0000001 #选取精度\n",
    "numGuesses = 0 #计数器\n",
    "low = 0.0 # 设定下限\n",
    "high = y # 设定上限\n",
    "ans = randint(low,high) #选随机数作为初始猜测值\n",
    "\n",
    "nn = 32 #开根次数\n",
    "#若N次方后小于y，则将下限改为ans,若大于y，则上限改为ans\n",
    "while abs(ans**nn - y) >= epsilon:\n",
    "    print('low = %f, high = %f, ans = %f'%(low, high, ans))\n",
    "    numGuesses += 1\n",
    "    if ans**nn < y:\n",
    "        low = ans\n",
    "    else:\n",
    "        high = ans\n",
    "    ans = (high + low)/2.0\n",
    "print('numGuesses = ' + str(numGuesses))\n",
    "print('%s is close to %d root of x'%(ans,nn))"
   ]
  },
  {
   "cell_type": "markdown",
   "metadata": {},
   "source": [
    "## 1.2 优化问题"
   ]
  },
  {
   "cell_type": "markdown",
   "metadata": {},
   "source": [
    "   为了将开方问题转化为优化问题，寻找合适的 $x$ 使 $x\\times x=y $，转变成寻找合适的 $x$,使 *cost function* 最小。然后利用梯度下降法，寻找 $x$。\n",
    "\n",
    "cost function 定义如下：$$f(x)=\\frac{1}{2}(x^{n}-y)^2$$\n",
    "\n",
    "梯度下降更新规则如下：$$x = x - \\alpha\\frac{d f(x)}{d x} $$"
   ]
  },
  {
   "cell_type": "markdown",
   "metadata": {},
   "source": [
    "### 1.2.1 cost function"
   ]
  },
  {
   "cell_type": "markdown",
   "metadata": {},
   "source": [
    "    学习率  𝛼  和迭代次数之间，学习率大则下降速度越快，迭代次数相对较少，但当学习率过大时，则会产生振荡现象，反而导致迭代次数增多，甚至无法得出结果\n",
    "    cost function 的形状也会影响取值的判定，如果是3次方，则不存在最小值，判定也难以直接通过f(x)给出"
   ]
  },
  {
   "cell_type": "code",
   "execution_count": 26,
   "metadata": {},
   "outputs": [],
   "source": [
    "def costfunction(x,n,y): # 定义 cost function\n",
    "    return (x**n-y)**2/2 \n",
    "def dcost(x,n,y):        # 定义 cost function 的导数\n",
    "    return (x**n-y)*n*x**(n-1)\n",
    "x = 1.2      #给定初值\n",
    "y = 603.    #选择开根常数\n",
    "n = 32     #开根次数\n",
    "\n",
    "X = []\n",
    "Y = []\n",
    "\n",
    "step = 0.000000001 # 学习率\n",
    "for i in range(1,50):\n",
    "    x-= step*dcost(x,n,y)\n",
    "    #print(i,costfunction(x,n,y),x)\n",
    "    X.append(i)\n",
    "    Y.append(costfunction(x,n,y))"
   ]
  },
  {
   "cell_type": "code",
   "execution_count": 25,
   "metadata": {},
   "outputs": [
    {
     "name": "stdout",
     "output_type": "stream",
     "text": [
      "1.2214758761428195 602.9990304057147 603.0\n"
     ]
    },
    {
     "data": {
      "image/png": "[encoded data removed]",
      "text/plain": [
       "<Figure size 432x288 with 1 Axes>"
      ]
     },
     "metadata": {
      "needs_background": "light"
     },
     "output_type": "display_data"
    }
   ],
   "source": [
    "from pylab import plot, xlabel, ylabel\n",
    "%matplotlib inline     \n",
    "#上行具体作用：当调用matplotlib.pyplot的绘图函数plot()进行绘图的时候，或者生成一个figure画布的时候，可以直接在python console里面生成图像。\n",
    "plot(X,Y,'r-o')\n",
    "xlabel(\"n\")\n",
    "ylabel(\"cost function\")\n",
    "\n",
    "print(x,x**n,y)"
   ]
  },
  {
   "cell_type": "markdown",
   "metadata": {},
   "source": [
    "算法越复杂，cost function越复杂，我们可以通过cost function的形状来看出，为什么会出现振荡最后稳定值是错误的原因。"
   ]
  },
  {
   "cell_type": "code",
   "execution_count": 7,
   "metadata": {},
   "outputs": [
    {
     "data": {
      "text/plain": [
       "[<matplotlib.lines.Line2D at 0x2055afcff98>]"
      ]
     },
     "execution_count": 7,
     "metadata": {},
     "output_type": "execute_result"
    },
    {
     "data": {
      "image/png": "[encoded data removed]",
      "text/plain": [
       "<Figure size 432x288 with 1 Axes>"
      ]
     },
     "metadata": {
      "needs_background": "light"
     },
     "output_type": "display_data"
    }
   ],
   "source": [
    "import numpy as np\n",
    "from pylab import plot\n",
    "%matplotlib inline     \n",
    "#上行具体作用：当调用matplotlib.pyplot的绘图函数plot()进行绘图的时候，或者生成一个figure画布的时候，可以直接在python console里面生成图像。\n",
    "n = 32\n",
    "a = 603\n",
    "x = np.linspace(-1.25, 1.25, 100)\n",
    "y = (x**n-a)**2/2\n",
    "plot(x,y)"
   ]
  },
  {
   "cell_type": "code",
   "execution_count": 11,
   "metadata": {},
   "outputs": [
    {
     "data": {
      "text/plain": [
       "[<matplotlib.lines.Line2D at 0x2055b156eb8>]"
      ]
     },
     "execution_count": 11,
     "metadata": {},
     "output_type": "execute_result"
    },
    {
     "data": {
      "image/png": "[encoded data removed]",
      "text/plain": [
       "<Figure size 432x288 with 1 Axes>"
      ]
     },
     "metadata": {
      "needs_background": "light"
     },
     "output_type": "display_data"
    }
   ],
   "source": [
    "import numpy as np\n",
    "from pylab import plot\n",
    "%matplotlib inline     \n",
    "#上行具体作用：当调用matplotlib.pyplot的绘图函数plot()进行绘图的时候，或者生成一个figure画布的时候，可以直接在python console里面生成图像。\n",
    "n = 32\n",
    "a = 603\n",
    "x = np.linspace(-1.2, 1.2, 100)\n",
    "y = (x**n-a)*n*x**(n-1)\n",
    "plot(x,y)"
   ]
  },
  {
   "cell_type": "markdown",
   "metadata": {},
   "source": [
    "### 1.2.2 牛顿迭代法求根"
   ]
  },
  {
   "cell_type": "markdown",
   "metadata": {},
   "source": [
    "\n",
    "将开放为题转化为求函数 $$f(x) = x^n - y$$ 的零点的问题。\n",
    "\n",
    "可用牛顿迭代法：$$x_{n+1}=x_{n}-\\frac{f(x_n)}{f'(x_n)}$$"
   ]
  },
  {
   "cell_type": "code",
   "execution_count": 32,
   "metadata": {},
   "outputs": [
    {
     "name": "stdout",
     "output_type": "stream",
     "text": [
      "1.2214759378062454\n"
     ]
    }
   ],
   "source": [
    "def df(x,n):        # 定义 f(x) 的导数\n",
    "    return (n*x**(n-1))\n",
    "def f(x,n,y):        # 定义 f(x)\n",
    "    return (x**n-y)\n",
    "x = 1.2      #给定初值\n",
    "y = 603.    #选择开根常数\n",
    "n = 32     #开根次数\n",
    "epsilon = 0.0001    #给出精度\n",
    "X = []\n",
    "Y = []\n",
    "i = 0\n",
    "while abs(f(x,n,y)) > epsilon:\n",
    "    x = x - f(x,n,y)/df(x,n)\n",
    "    X.append(i)\n",
    "    Y.append(f(x,n,y))\n",
    "    i+=1\n",
    "print(x)"
   ]
  },
  {
   "cell_type": "code",
   "execution_count": 33,
   "metadata": {
    "scrolled": true
   },
   "outputs": [
    {
     "data": {
      "text/plain": [
       "Text(0, 0.5, 'f(x)')"
      ]
     },
     "execution_count": 33,
     "metadata": {},
     "output_type": "execute_result"
    },
    {
     "data": {
      "image/png": "[encoded data removed]",
      "text/plain": [
       "<Figure size 432x288 with 1 Axes>"
      ]
     },
     "metadata": {
      "needs_background": "light"
     },
     "output_type": "display_data"
    }
   ],
   "source": [
    "from pylab import plot, xlabel, ylabel\n",
    "%matplotlib inline     \n",
    "#上行具体作用：当调用matplotlib.pyplot的绘图函数plot()进行绘图的时候，或者生成一个figure画布的时候，可以直接在python console里面生成图像。\n",
    "plot(X,Y,'r-o')\n",
    "xlabel(\"i\")\n",
    "ylabel(\"f(x)\")"
   ]
  },
  {
   "cell_type": "markdown",
   "metadata": {},
   "source": [
    "牛顿法和梯度下降法的区别？\n",
    "梯度下降法是固定步长逐渐下降，而牛顿法是不断的截取零点，就不存在步长这个问题。\n",
    "牛顿法就是将二阶导数定义为了步长，是一个更为优秀的方法，自适应的步长。\n",
    "梯度下降法称为一阶方法，牛顿方法为二阶方法"
   ]
  },
  {
   "cell_type": "markdown",
   "metadata": {},
   "source": [
    "将开放为题转化为求函数 $$f(x) = x^n - y$$ 的根的问题。\n",
    "$$L(x)=\\frac{1}{2}(x^{n}-y)^2$$\n",
    "$$f(x)=L'(x)$$\n",
    "牛顿迭代法其实是自适应步长的梯度下降：$$x_{n+1}=x_{n}-\\frac{L'(x_n)}{L''(x_n)}$$"
   ]
  },
  {
   "cell_type": "markdown",
   "metadata": {},
   "source": [
    "### 1.2.3 （补充）不定点迭代"
   ]
  },
  {
   "cell_type": "markdown",
   "metadata": {},
   "source": [
    "一般的，为了求解非线性方程$$f(x)=0$$将其转换为等价的形式$$x=φ(x)$$其中$φ(x)$为迭代函数。由于（1）与（2）具有相同的解。\n",
    "\n",
    "则构造迭代公式有：$$x_{k+1}=φ(x_k), k=0,1,2...$$给定初值$x_0$,并且$φ(x)$是连续函数，则有：$$x^*=\\lim_{k \\to ∞} x_{k+1}=\\lim_{k \\to ∞} φ(x_k)=φ(\\lim_{k \\to ∞} x_k)=φ(x^*)$$可得$x^*$是方程的解，也是$f(x)=0$的解。\n",
    "\n",
    "上面的方法被称为：不定点迭代法\n",
    "\n",
    "使用条件：\n",
    "\n",
    "1. $φ(x)$在$[a,b]$内连续，在$(a,b)$内可导。\n",
    "2. 对于任意的$x∈[a,b]$,则有$φ(x)∈[a,b]$\n",
    "3. 在$[a,b]$内，存在一个常数$L(0<L<1)$,使得$|φ'(x)|\\le L<1$,局部收敛。"
   ]
  },
  {
   "cell_type": "code",
   "execution_count": 6,
   "metadata": {},
   "outputs": [
    {
     "ename": "OverflowError",
     "evalue": "(34, 'Result too large')",
     "output_type": "error",
     "traceback": [
      "\u001b[1;31m---------------------------------------------------------------------------\u001b[0m",
      "\u001b[1;31mOverflowError\u001b[0m                             Traceback (most recent call last)",
      "\u001b[1;32m<ipython-input-6-40ec9831f304>\u001b[0m in \u001b[0;36m<module>\u001b[1;34m\u001b[0m\n\u001b[0;32m     10\u001b[0m \u001b[1;32mwhile\u001b[0m \u001b[0mabs\u001b[0m\u001b[1;33m(\u001b[0m\u001b[0mxi\u001b[0m\u001b[1;33m-\u001b[0m\u001b[0mx\u001b[0m\u001b[1;33m)\u001b[0m \u001b[1;33m>\u001b[0m \u001b[0mepsilon\u001b[0m\u001b[1;33m:\u001b[0m\u001b[1;33m\u001b[0m\u001b[1;33m\u001b[0m\u001b[0m\n\u001b[0;32m     11\u001b[0m     \u001b[0mxi\u001b[0m \u001b[1;33m=\u001b[0m \u001b[0mx\u001b[0m\u001b[1;33m\u001b[0m\u001b[1;33m\u001b[0m\u001b[0m\n\u001b[1;32m---> 12\u001b[1;33m     \u001b[0mx\u001b[0m \u001b[1;33m=\u001b[0m \u001b[0mphi\u001b[0m\u001b[1;33m(\u001b[0m\u001b[0mxi\u001b[0m\u001b[1;33m,\u001b[0m\u001b[0mn\u001b[0m\u001b[1;33m)\u001b[0m\u001b[1;33m\u001b[0m\u001b[1;33m\u001b[0m\u001b[0m\n\u001b[0m\u001b[0;32m     13\u001b[0m \u001b[0mprint\u001b[0m\u001b[1;33m(\u001b[0m\u001b[0mx\u001b[0m\u001b[1;33m)\u001b[0m\u001b[1;33m\u001b[0m\u001b[1;33m\u001b[0m\u001b[0m\n",
      "\u001b[1;32m<ipython-input-6-40ec9831f304>\u001b[0m in \u001b[0;36mphi\u001b[1;34m(x, n)\u001b[0m\n\u001b[0;32m      2\u001b[0m     \u001b[1;32mreturn\u001b[0m \u001b[1;33m(\u001b[0m\u001b[0mx\u001b[0m\u001b[1;33m**\u001b[0m\u001b[0mn\u001b[0m\u001b[1;33m-\u001b[0m\u001b[0my\u001b[0m\u001b[1;33m)\u001b[0m\u001b[1;33m\u001b[0m\u001b[1;33m\u001b[0m\u001b[0m\n\u001b[0;32m      3\u001b[0m \u001b[1;32mdef\u001b[0m \u001b[0mphi\u001b[0m\u001b[1;33m(\u001b[0m\u001b[0mx\u001b[0m\u001b[1;33m,\u001b[0m\u001b[0mn\u001b[0m\u001b[1;33m)\u001b[0m\u001b[1;33m:\u001b[0m         \u001b[1;31m#定义φ(x)\u001b[0m\u001b[1;33m\u001b[0m\u001b[1;33m\u001b[0m\u001b[0m\n\u001b[1;32m----> 4\u001b[1;33m     \u001b[1;32mreturn\u001b[0m \u001b[1;33m(\u001b[0m\u001b[0mx\u001b[0m\u001b[1;33m**\u001b[0m\u001b[0mn\u001b[0m\u001b[1;33m-\u001b[0m\u001b[0my\u001b[0m\u001b[1;33m)\u001b[0m\u001b[1;33m+\u001b[0m\u001b[0mx\u001b[0m\u001b[1;33m\u001b[0m\u001b[1;33m\u001b[0m\u001b[0m\n\u001b[0m\u001b[0;32m      5\u001b[0m \u001b[0mx\u001b[0m \u001b[1;33m=\u001b[0m \u001b[1;36m0.5\u001b[0m      \u001b[1;31m#给定初值\u001b[0m\u001b[1;33m\u001b[0m\u001b[1;33m\u001b[0m\u001b[0m\n\u001b[0;32m      6\u001b[0m \u001b[0my\u001b[0m \u001b[1;33m=\u001b[0m \u001b[1;36m603.\u001b[0m    \u001b[1;31m#选择开根常数\u001b[0m\u001b[1;33m\u001b[0m\u001b[1;33m\u001b[0m\u001b[0m\n",
      "\u001b[1;31mOverflowError\u001b[0m: (34, 'Result too large')"
     ]
    }
   ],
   "source": [
    "def f(x,n,y):        # 定义 f(x)\n",
    "    return (x**n-y)\n",
    "def phi(x,n):         #定义φ(x)\n",
    "    return (x**n-y)+x\n",
    "x = 0.5      #给定初值\n",
    "y = 603.    #选择开根常数\n",
    "n = 32     #开根次数\n",
    "xi = phi(x,n)\n",
    "epsilon = 0.0001    #给出精度\n",
    "while abs(xi-x) > epsilon:\n",
    "    xi = x\n",
    "    x = phi(xi,n)\n",
    "print(x)"
   ]
  },
  {
   "cell_type": "markdown",
   "metadata": {},
   "source": [
    "以上结果说明了选取函数不收敛，所以要换成求根问题还是需要变成根号，这样又回到了最初的原点，无法解决问题。\n",
    "说明不定点迭代对收敛函数的要求非常高，不如退而转用二分法与牛顿法。"
   ]
  },
  {
   "cell_type": "code",
   "execution_count": 12,
   "metadata": {},
   "outputs": [
    {
     "name": "stdout",
     "output_type": "stream",
     "text": [
      "1.2214615970601141\n",
      "10\n"
     ]
    }
   ],
   "source": [
    "#优化后\n",
    "def f(x,n,y):        # 定义 f(x)\n",
    "    return (x**n-y)\n",
    "def phi(x,n):         #定义φ(x)\n",
    "    return -(x**n-y)/20000+x\n",
    "x = 1.3      #给定初值\n",
    "y = 603.    #选择开根常数\n",
    "n = 32     #开根次数\n",
    "xi = phi(x,n)\n",
    "i = 0\n",
    "epsilon = 0.0001    #给出精度\n",
    "while abs(xi-x) > epsilon:\n",
    "    xi = x\n",
    "    x = phi(xi,n)\n",
    "    i+=1\n",
    "print(x)\n",
    "print(i)"
   ]
  },
  {
   "cell_type": "code",
   "execution_count": null,
   "metadata": {},
   "outputs": [],
   "source": []
  }
 ],
 "metadata": {
  "kernelspec": {
   "display_name": "Python 3",
   "language": "python",
   "name": "python3"
  },
  "language_info": {
   "codemirror_mode": {
    "name": "ipython",
    "version": 3
   },
   "file_extension": ".py",
   "mimetype": "text/x-python",
   "name": "python",
   "nbconvert_exporter": "python",
   "pygments_lexer": "ipython3",
   "version": "3.7.3"
  }
 },
 "nbformat": 4,
 "nbformat_minor": 2
}
